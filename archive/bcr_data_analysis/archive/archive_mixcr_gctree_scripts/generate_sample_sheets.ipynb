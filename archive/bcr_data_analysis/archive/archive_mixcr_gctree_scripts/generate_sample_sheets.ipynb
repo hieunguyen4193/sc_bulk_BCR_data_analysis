{
 "cells": [
  {
   "cell_type": "code",
   "execution_count": 7,
   "metadata": {},
   "outputs": [],
   "source": [
    "import pandas as pd\n",
    "import pathlib\n",
    "import os\n",
    "\n",
    "outdir = \"/home/hieunguyen/CRC1382/outdir/molmed_server\"\n",
    "PROJECT = \"mixcr_pipeline_output\"\n",
    "\n",
    "maindir = os.path.join(outdir, PROJECT)\n",
    "path_to_main_output = os.path.join(maindir, \"data_analysis\")\n",
    "path_to_05_output = os.path.join(path_to_main_output, \"05_output\")\n",
    "\n",
    "thres = 0.15\n",
    "maindf = pd.DataFrame()\n",
    "all_count_files = [item for item in pathlib.Path(os.path.join(path_to_05_output)).glob(\"*/*/*/*count*\")]\n",
    "for file in all_count_files:\n",
    "    basedir = \"/\".join(str(file).split(\"/\")[:-1])\n",
    "    tmpdf = pd.read_csv(file, index_col = [0])\n",
    "    mouseid = str(file).split(\"/\")[-3]\n",
    "    analysis_type = str(file).split(\"/\")[-2].replace(\"_MIDs\", \"\")\n",
    "    tmpdf[\"mouseID\"] = mouseid\n",
    "    tmpdf[\"analysis_type\"] = analysis_type\n",
    "    tmpdf[\"filename\"] = tmpdf[\"VJ.combi\"].apply(lambda x: x.replace(\"*\", \"-\"))\n",
    "    tmpdf[\"path\"] = tmpdf[\"filename\"].apply(lambda x: \"{}/{}_{}_{}.aln.fasta\".format(basedir, mouseid, analysis_type, x))\n",
    "    \n",
    "    tmpdf[\"filename\"] = tmpdf[[\"mouseID\", \"analysis_type\", \"filename\"]].apply(lambda x: \"_\".join(x), axis = 1)\n",
    "    maindf = pd.concat([maindf, tmpdf], axis = 0)\n",
    "\n",
    "maindf = maindf.sort_values(by = [\"count.seq\"], ascending=True)\n",
    "maindf.to_csv(\"all_fasta_SampleSheet.csv\", index = False)\n",
    "\n",
    "count = 0\n",
    "for mouseid in maindf[\"mouseID\"].unique():\n",
    "    for analysis_type in maindf[\"analysis_type\"].unique():\n",
    "        tmpdf = maindf[(maindf[\"mouseID\"] == mouseid) & (maindf[\"analysis_type\"] == analysis_type)]\n",
    "        tmpdf.to_csv(\"./SampleSheets/{}_{}_SampleSheet.csv\".format(mouseid, analysis_type), index = False)\n",
    "        count += tmpdf.shape[0] "
   ]
  }
 ],
 "metadata": {
  "kernelspec": {
   "display_name": "hieunguyen",
   "language": "python",
   "name": "python3"
  },
  "language_info": {
   "codemirror_mode": {
    "name": "ipython",
    "version": 3
   },
   "file_extension": ".py",
   "mimetype": "text/x-python",
   "name": "python",
   "nbconvert_exporter": "python",
   "pygments_lexer": "ipython3",
   "version": "3.10.4"
  }
 },
 "nbformat": 4,
 "nbformat_minor": 2
}
