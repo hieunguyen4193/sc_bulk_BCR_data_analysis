{
 "cells": [
  {
   "cell_type": "code",
   "execution_count": 13,
   "id": "1b5290e1-b77a-41cd-ade8-a8a7d55a7c86",
   "metadata": {},
   "outputs": [],
   "source": [
    "import pandas as pd\n",
    "import os\n",
    "\n",
    "outdir = \"/home/hieu/outdir\"\n",
    "mid_metadata = pd.read_csv(os.path.join(outdir, \"FT_output\", \"mid_labels.csv\"), sep = \";\")\n",
    "mid_metadata[[\"Unnamed: 0\", \"hex color\"]].set_index(\"Unnamed: 0\").to_csv(\"hex_color.csv\")"
   ]
  },
  {
   "cell_type": "code",
   "execution_count": 15,
   "id": "0eecaade-99c8-477e-af59-a4eb1fcc7652",
   "metadata": {},
   "outputs": [
    {
     "data": {
      "text/plain": [
       "{'MID4': '#0ea122',\n",
       " 'MID55': '#fcbb2d',\n",
       " 'MID12': '#0919ad',\n",
       " 'MID57': '#e80707',\n",
       " 'MID58': '#1ba8e0',\n",
       " 'MID1': '#0ea122',\n",
       " 'MID59': '#fcbb2d',\n",
       " 'MID60': '#0919ad',\n",
       " 'MID61': '#e80707',\n",
       " 'MID62': '#1ba8e0',\n",
       " 'MID2': '#0ea122',\n",
       " 'MID23': '#fcbb2d',\n",
       " 'MID24': '#0919ad',\n",
       " 'MID25': '#e80707',\n",
       " 'MID26': '#1ba8e0',\n",
       " 'MID3': '#0ea122',\n",
       " 'MID28': '#0919ad',\n",
       " 'MID29': '#e80707',\n",
       " 'MID30': '#1ba8e0',\n",
       " 'MID11': '#0ea122',\n",
       " 'MID13': '#0ea122',\n",
       " 'MID14': '#0ea122',\n",
       " 'MID51': '#fcbb2d',\n",
       " 'MID52': '#0919ad',\n",
       " 'MID53': '#e80707',\n",
       " 'MID54': '#1ba8e0',\n",
       " 'MID16': '#0ea122',\n",
       " 'MID35': '#fcbb2d',\n",
       " 'MID36': '#0919ad',\n",
       " 'MID38': '#1ba8e0',\n",
       " 'MID15': '#0ea122',\n",
       " 'MID39': '#fcbb2d',\n",
       " 'MID40': '#0919ad',\n",
       " 'MID42': '#1ba8e0',\n",
       " 'MID7': '#0ea122',\n",
       " 'MID8': '#0ea122',\n",
       " 'MID63': '#fcbb2d',\n",
       " 'MID64': '#0919ad',\n",
       " 'MID65': '#e80707',\n",
       " 'MID66': '#1ba8e0',\n",
       " 'MID9': '#0ea122',\n",
       " 'MID10': '#0ea122',\n",
       " 'MID67': '#fcbb2d',\n",
       " 'MID68': '#0919ad',\n",
       " 'MID69': '#e80707',\n",
       " 'MID18': '#1ba8e0',\n",
       " 'MID5': '#0ea122',\n",
       " 'MID43': '#fcbb2d',\n",
       " 'MID44': '#0919ad',\n",
       " 'MID45': '#e80707',\n",
       " 'MID46': '#1ba8e0',\n",
       " 'MID6': '#0ea122',\n",
       " 'MID47': '#fcbb2d',\n",
       " 'MID48': '#0919ad',\n",
       " 'MID49': '#e80707',\n",
       " 'MID50': '#1ba8e0',\n",
       " 'MID17': '#0ea122',\n",
       " 'MID31': '#fcbb2d',\n",
       " 'MID32': '#0919ad',\n",
       " 'MID33': '#e80707',\n",
       " 'MID34': '#1ba8e0'}"
      ]
     },
     "execution_count": 15,
     "metadata": {},
     "output_type": "execute_result"
    }
   ],
   "source": [
    "color_path = \"/home/hieu/src/BCRTree_release/gctree/hex_color.csv\"\n",
    "pd.read_csv(color_path, index_col = [0]).to_dict()[\"hex color\"]"
   ]
  },
  {
   "cell_type": "code",
   "execution_count": null,
   "id": "44486a81-011f-4b61-b4c7-e642a577ca1b",
   "metadata": {},
   "outputs": [],
   "source": []
  }
 ],
 "metadata": {
  "kernelspec": {
   "display_name": "Python 3 (ipykernel)",
   "language": "python",
   "name": "python3"
  },
  "language_info": {
   "codemirror_mode": {
    "name": "ipython",
    "version": 3
   },
   "file_extension": ".py",
   "mimetype": "text/x-python",
   "name": "python",
   "nbconvert_exporter": "python",
   "pygments_lexer": "ipython3",
   "version": "3.8.19"
  }
 },
 "nbformat": 4,
 "nbformat_minor": 5
}
