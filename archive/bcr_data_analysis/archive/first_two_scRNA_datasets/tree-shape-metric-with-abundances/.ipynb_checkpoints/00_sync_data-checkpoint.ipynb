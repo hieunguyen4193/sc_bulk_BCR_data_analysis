{
 "cells": [
  {
   "cell_type": "code",
   "execution_count": 9,
   "id": "9fd713ca-77d0-4ff0-8e2f-0db8980f802c",
   "metadata": {},
   "outputs": [],
   "source": [
    "import pathlib\n",
    "import os\n",
    "\n",
    "path_to_storage = \"/home/hieunguyen/CRC1382/storage\"\n",
    "path_to_maindata = os.path.join(path_to_storage, \"BCR_bulk_data_trees\")\n",
    "path_to_simplified_data = os.path.join(path_to_storage, \"BCR_bulk_data_trees_simplified\")\n",
    "os.system(\"mkdir -p {}\".format(path_to_simplified_data))\n",
    "\n",
    "all_samples = [ item for item in pathlib.Path(path_to_maindata).glob(\"*\") if item.name != \"clone_dfs\"]\n",
    "\n",
    "for sample in all_samples:\n",
    "    samplename = sample.name\n",
    "    trees = [ item.name for item in pathlib.Path(str(sample)).glob(\"*\") if os.path.isdir(item) == True]\n",
    "    for tree in trees:\n",
    "        os.system(\"mkdir -p {}\".format(os.path.join(path_to_simplified_data, samplename, tree)))\n",
    "        os.system(\"rsync -avh --progress {}/*.nk {}\".format(os.path.join(path_to_maindata, samplename, tree),\n",
    "                                                           os.path.join(path_to_simplified_data, samplename, tree)))\n",
    "        os.system(\"rsync -avh --progress {}/abund.nk {}\".format(os.path.join(path_to_maindata, samplename, tree),\n",
    "                                                           os.path.join(path_to_simplified_data, samplename, tree)))"
   ]
  }
 ],
 "metadata": {
  "kernelspec": {
   "display_name": "Python 3 (ipykernel)",
   "language": "python",
   "name": "python3"
  },
  "language_info": {
   "codemirror_mode": {
    "name": "ipython",
    "version": 3
   },
   "file_extension": ".py",
   "mimetype": "text/x-python",
   "name": "python",
   "nbconvert_exporter": "python",
   "pygments_lexer": "ipython3",
   "version": "3.10.4"
  }
 },
 "nbformat": 4,
 "nbformat_minor": 5
}
