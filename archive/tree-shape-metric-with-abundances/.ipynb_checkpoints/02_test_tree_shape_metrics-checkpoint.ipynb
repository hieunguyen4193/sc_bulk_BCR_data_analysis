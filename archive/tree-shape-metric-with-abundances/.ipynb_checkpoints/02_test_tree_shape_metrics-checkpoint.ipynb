{
 "cells": [
  {
   "cell_type": "code",
   "execution_count": 1,
   "id": "7edac2f8-f140-4708-9bc3-55c8d8ca3ded",
   "metadata": {},
   "outputs": [
    {
     "name": "stderr",
     "output_type": "stream",
     "text": [
      "/home/hieunguyen/miniconda3/envs/ete3/lib/python3.10/site-packages/tqdm/auto.py:21: TqdmWarning: IProgress not found. Please update jupyter and ipywidgets. See https://ipywidgets.readthedocs.io/en/stable/user_install.html\n",
      "  from .autonotebook import tqdm as notebook_tqdm\n"
     ]
    }
   ],
   "source": [
    "import pandas as pd\n",
    "import numpy as np\n",
    "import pathlib\n",
    "import matplotlib.pyplot as plt\n",
    "import seaborn as sns\n",
    "import os\n",
    "from tqdm import tqdm\n",
    "from typing import List, Union, Optional, Callable\n",
    "import pickle\n",
    "\n",
    "from ete3 import Tree, TreeNode\n",
    "from gctree import CollapsedTree\n",
    "\n",
    "from sklearn.decomposition import PCA\n",
    "from sklearn.preprocessing import StandardScaler\n",
    "import umap\n",
    "\n",
    "import warnings\n",
    "warnings.filterwarnings(\"ignore\")\n",
    "\n",
    "from preparation import *"
   ]
  },
  {
   "cell_type": "code",
   "execution_count": 2,
   "id": "97598808-48e1-404b-bcf8-2a320505f247",
   "metadata": {},
   "outputs": [
    {
     "name": "stdout",
     "output_type": "stream",
     "text": [
      "List of samples in this dataset: ['m53_full', 'm14_full', 'm42_full', 'm43_full', 'm37_full', 'm39_full', 'm30_full', 'm32_full', 'm29_full', 'm38_full', 'm13_full', 'm31_full', 'm28_full', 'm36_full', 'm11_full', 'm12_full']\n",
      "***** ***** ***** ***** ***** ***** ***** ***** ***** *****\n",
      "Number of samples in this dataset: 16\n"
     ]
    }
   ],
   "source": [
    "storagedir = \"/home/hieunguyen/CRC1382/storage\"\n",
    "inputdir = os.path.join(storagedir, \"BCR_bulk_data_trees\")\n",
    "outdir = \"/home/hieunguyen/CRC1382/outdir\"\n",
    "\n",
    "path_to_01_output = os.path.join(outdir, \"BCR_bulk_data_trees\", \"01_output\")\n",
    "os.system(\"mkdir -p {}\".format(path_to_01_output))\n",
    "\n",
    "files = [item for item in pathlib.Path(inputdir).glob(\"m*_full\")]\n",
    "\n",
    "list_of_samples = [item.name for item in files]\n",
    "\n",
    "print(\"List of samples in this dataset: {}\".format(list_of_samples))\n",
    "print(\"***** ***** ***** ***** ***** ***** ***** ***** ***** *****\")\n",
    "print(\"Number of samples in this dataset: {}\".format(len(list_of_samples)))"
   ]
  },
  {
   "cell_type": "markdown",
   "id": "1d37e10d-596b-4ea3-abdc-081038d6305e",
   "metadata": {},
   "source": [
    "A good example: \n",
    "```\n",
    "samplename = \"m30_full\"\n",
    "treename = \"gctree_IGHV1-12_IGHJ3_27_62.1\"\n",
    "```"
   ]
  },
  {
   "cell_type": "code",
   "execution_count": 3,
   "id": "62dceea4-5e1f-4761-9043-3559b3099b33",
   "metadata": {},
   "outputs": [
    {
     "name": "stdout",
     "output_type": "stream",
     "text": [
      "Sample: m53_full\n",
      "All MID samples: ['MID17', 'MID31', 'MID32', 'MID33', 'MID34']\n",
      "Sample: m14_full\n",
      "All MID samples: ['MID28', 'MID29', 'MID3', 'MID30']\n",
      "Sample: m42_full\n",
      "All MID samples: ['MID43', 'MID44', 'MID45', 'MID46', 'MID5']\n",
      "Sample: m43_full\n",
      "All MID samples: ['MID47', 'MID48', 'MID49', 'MID50', 'MID6']\n",
      "Sample: m37_full\n",
      "All MID samples: ['MID63', 'MID64', 'MID65', 'MID66', 'MID8']\n",
      "Sample: m39_full\n",
      "All MID samples: ['MID10', 'MID18', 'MID67', 'MID68', 'MID69', 'MID8']\n",
      "Sample: m30_full\n",
      "All MID samples: ['MID14', 'MID51', 'MID52', 'MID53', 'MID54']\n",
      "Sample: m32_full\n",
      "All MID samples: ['MID15', 'MID39', 'MID40', 'MID42']\n",
      "Sample: m29_full\n",
      "All MID samples: ['MID13']\n",
      "Sample: m38_full\n",
      "All MID samples: ['MID9']\n",
      "Sample: m13_full\n",
      "All MID samples: ['MID2', 'MID23', 'MID24', 'MID25', 'MID26']\n",
      "Sample: m31_full\n",
      "All MID samples: ['MID16', 'MID35', 'MID36', 'MID38']\n",
      "Sample: m28_full\n",
      "All MID samples: ['MID11']\n",
      "Sample: m36_full\n",
      "All MID samples: ['MID7']\n",
      "Sample: m11_full\n",
      "All MID samples: ['MID12', 'MID4', 'MID55', 'MID57', 'MID58']\n",
      "Sample: m12_full\n",
      "All MID samples: ['MID1', 'MID59', 'MID60', 'MID61', 'MID62']\n"
     ]
    }
   ],
   "source": [
    "# samplename = \"m30_full\"\n",
    "all_MID_samples = []\n",
    "for samplename in list_of_samples:\n",
    "    all_MIDs = []\n",
    "    path_to_sample = os.path.join(inputdir, samplename)\n",
    "    all_trees = [item for item in pathlib.Path(path_to_sample).glob(\"*\") if os.path.isdir(item)]\n",
    "    for treedir in all_trees:\n",
    "        treedir = str(treedir)\n",
    "        nk_path = os.path.join(treedir, \"gctree.out.inference.1.nk\")\n",
    "        if os.path.exists(nk_path) == True:\n",
    "            ab_dict_path = os.path.join(treedir, \"abund.csv\")\n",
    "            abund_df = pd.read_csv(ab_dict_path, index_col=0, names=['val'])\n",
    "            ab_dict = abund_df.to_dict().get('val')\n",
    "            tree_path = treedir\n",
    "            tree = Tree(newick=nk_path, format=1)\n",
    "            if ab_dict is not None:\n",
    "                for node in tree.traverse():\n",
    "                    node.add_feature('abundance', ab_dict.get(node.name, 0))\n",
    "            treeobj = GCtree(tree = tree, path = tree_path)\n",
    "            ##### from this file we can calculate the \"abundance\" of each individual mice at a node.\n",
    "            treecsv = pd.read_csv(os.path.join(treedir, \"tree.csv\"), sep = \"\\t\")\n",
    "        \n",
    "        for item in treecsv[\"sample\"].unique():\n",
    "            if \",\" in item:\n",
    "                all_MIDs += item.split(\",\")\n",
    "            else:\n",
    "                all_MIDs.append(item)\n",
    "    \n",
    "    all_MIDs = list(set(all_MIDs))\n",
    "    print(\"Sample: {}\".format(samplename))\n",
    "    print(\"All MID samples: {}\".format(sorted(all_MIDs)))\n",
    "    all_MID_samples += all_MIDs"
   ]
  },
  {
   "cell_type": "code",
   "execution_count": 6,
   "id": "6d23c626-2eef-4cb0-a9c2-8baf6fd2595c",
   "metadata": {},
   "outputs": [
    {
     "data": {
      "text/plain": [
       "\n",
       "         /-seq1\n",
       "      /-|\n",
       "     |  |   /-seq2\n",
       "     |   \\-|\n",
       "-- /-|      \\-seq5\n",
       "     |\n",
       "     |   /-seq3\n",
       "     |  |\n",
       "      \\-|--seq6\n",
       "        |\n",
       "         \\-seq7"
      ]
     },
     "execution_count": 6,
     "metadata": {},
     "output_type": "execute_result"
    }
   ],
   "source": [
    "treeobj"
   ]
  }
 ],
 "metadata": {
  "kernelspec": {
   "display_name": "Python 3 (ipykernel)",
   "language": "python",
   "name": "python3"
  },
  "language_info": {
   "codemirror_mode": {
    "name": "ipython",
    "version": 3
   },
   "file_extension": ".py",
   "mimetype": "text/x-python",
   "name": "python",
   "nbconvert_exporter": "python",
   "pygments_lexer": "ipython3",
   "version": "3.10.13"
  }
 },
 "nbformat": 4,
 "nbformat_minor": 5
}
