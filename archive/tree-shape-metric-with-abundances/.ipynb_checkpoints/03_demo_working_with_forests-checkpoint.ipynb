{
 "cells": [
  {
   "cell_type": "code",
   "execution_count": 1,
   "id": "fc03e845-f28a-4485-aa61-d9e866a5a618",
   "metadata": {},
   "outputs": [
    {
     "name": "stderr",
     "output_type": "stream",
     "text": [
      "/home/hieunguyen/miniconda3/envs/ete3/lib/python3.10/site-packages/tqdm/auto.py:21: TqdmWarning: IProgress not found. Please update jupyter and ipywidgets. See https://ipywidgets.readthedocs.io/en/stable/user_install.html\n",
      "  from .autonotebook import tqdm as notebook_tqdm\n"
     ]
    }
   ],
   "source": [
    "import pandas as pd\n",
    "import numpy as np\n",
    "import pathlib\n",
    "import matplotlib.pyplot as plt\n",
    "import seaborn as sns\n",
    "import os\n",
    "from tqdm import tqdm\n",
    "from typing import List, Union, Optional, Callable\n",
    "import pickle\n",
    "\n",
    "from ete3 import Tree, TreeNode\n",
    "from gctree import CollapsedTree\n",
    "\n",
    "from sklearn.decomposition import PCA\n",
    "from sklearn.preprocessing import StandardScaler\n",
    "import umap\n",
    "\n",
    "import warnings\n",
    "warnings.filterwarnings(\"ignore\")\n",
    "\n",
    "from preparation import *\n",
    "\n",
    "sample_base = \"mouse_based_trees\""
   ]
  },
  {
   "cell_type": "code",
   "execution_count": 2,
   "id": "22929d92-6184-4c1c-a8fb-a4d178ba1c88",
   "metadata": {},
   "outputs": [
    {
     "name": "stdout",
     "output_type": "stream",
     "text": [
      "List of samples in this dataset: ['m53_full', 'm14_full', 'm42_full', 'm43_full', 'm37_full', 'm39_full', 'm30_full', 'm32_full', 'm29_full', 'm38_full', 'm13_full', 'm31_full', 'm28_full', 'm36_full', 'm11_full', 'm12_full']\n",
      "***** ***** ***** ***** ***** ***** ***** ***** ***** *****\n",
      "Number of samples in this dataset: 16\n"
     ]
    }
   ],
   "source": [
    "storagedir = \"/home/hieunguyen/CRC1382/storage\"\n",
    "inputdir = os.path.join(storagedir, \"BCR_bulk_trees\", sample_base)\n",
    "outdir = \"/home/hieunguyen/CRC1382/outdir\"\n",
    "\n",
    "path_to_01_output = os.path.join(outdir, \"BCR_bulk_trees\", \"01_output\")\n",
    "os.system(\"mkdir -p {}\".format(path_to_01_output))\n",
    "\n",
    "files = [item for item in pathlib.Path(inputdir).glob(\"m*_full\")]\n",
    "\n",
    "list_of_samples = [item.name for item in files]\n",
    "\n",
    "mid_metadata = pd.read_csv(os.path.join(storagedir, \"BCR_bulk_trees\", \"mid_labels.csv\"), sep=\";\", index_col = [0]) \n",
    "mid_metadata = mid_metadata.reset_index()\n",
    "mid_metadata.columns = [\"MID\"] + list(mid_metadata.columns)[1:]\n",
    "print(\"List of samples in this dataset: {}\".format(list_of_samples))\n",
    "print(\"***** ***** ***** ***** ***** ***** ***** ***** ***** *****\")\n",
    "print(\"Number of samples in this dataset: {}\".format(len(list_of_samples)))"
   ]
  },
  {
   "cell_type": "code",
   "execution_count": 3,
   "id": "12a32152-c0f7-461d-8c47-22e4fecafe40",
   "metadata": {},
   "outputs": [
    {
     "data": {
      "text/html": [
       "<div>\n",
       "<style scoped>\n",
       "    .dataframe tbody tr th:only-of-type {\n",
       "        vertical-align: middle;\n",
       "    }\n",
       "\n",
       "    .dataframe tbody tr th {\n",
       "        vertical-align: top;\n",
       "    }\n",
       "\n",
       "    .dataframe thead th {\n",
       "        text-align: right;\n",
       "    }\n",
       "</style>\n",
       "<table border=\"1\" class=\"dataframe\">\n",
       "  <thead>\n",
       "    <tr style=\"text-align: right;\">\n",
       "      <th></th>\n",
       "      <th>MID</th>\n",
       "      <th>mouse</th>\n",
       "      <th>age</th>\n",
       "      <th>day</th>\n",
       "      <th>population</th>\n",
       "      <th>label</th>\n",
       "      <th>Unnamed: 6</th>\n",
       "      <th>Unnamed: 7</th>\n",
       "      <th>hex color</th>\n",
       "    </tr>\n",
       "  </thead>\n",
       "  <tbody>\n",
       "    <tr>\n",
       "      <th>0</th>\n",
       "      <td>MID4</td>\n",
       "      <td>m11</td>\n",
       "      <td>8w</td>\n",
       "      <td>d0</td>\n",
       "      <td>biopsy</td>\n",
       "      <td>m11_biopsy_8w_d0</td>\n",
       "      <td>NaN</td>\n",
       "      <td>NaN</td>\n",
       "      <td>#0ea122</td>\n",
       "    </tr>\n",
       "    <tr>\n",
       "      <th>1</th>\n",
       "      <td>MID55</td>\n",
       "      <td>m11</td>\n",
       "      <td>8w</td>\n",
       "      <td>d0</td>\n",
       "      <td>Ly6c+YFP+</td>\n",
       "      <td>m11_Ly6c+YFP+_8w_d0</td>\n",
       "      <td>NaN</td>\n",
       "      <td>NaN</td>\n",
       "      <td>#fcbb2d</td>\n",
       "    </tr>\n",
       "    <tr>\n",
       "      <th>2</th>\n",
       "      <td>MID12</td>\n",
       "      <td>m11</td>\n",
       "      <td>8w</td>\n",
       "      <td>d0</td>\n",
       "      <td>Ly6c+YFP-</td>\n",
       "      <td>m11_Ly6c+YFP-_8w_d0</td>\n",
       "      <td>NaN</td>\n",
       "      <td>NaN</td>\n",
       "      <td>#0919ad</td>\n",
       "    </tr>\n",
       "    <tr>\n",
       "      <th>3</th>\n",
       "      <td>MID57</td>\n",
       "      <td>m11</td>\n",
       "      <td>8w</td>\n",
       "      <td>d0</td>\n",
       "      <td>Ly6c-YFP+</td>\n",
       "      <td>m11_Ly6c-YFP+_8w_d0</td>\n",
       "      <td>NaN</td>\n",
       "      <td>NaN</td>\n",
       "      <td>#e80707</td>\n",
       "    </tr>\n",
       "    <tr>\n",
       "      <th>4</th>\n",
       "      <td>MID58</td>\n",
       "      <td>m11</td>\n",
       "      <td>8w</td>\n",
       "      <td>d0</td>\n",
       "      <td>Ly6c-YFP-</td>\n",
       "      <td>m11_Ly6c-YFP-_8w_d0</td>\n",
       "      <td>NaN</td>\n",
       "      <td>NaN</td>\n",
       "      <td>#1ba8e0</td>\n",
       "    </tr>\n",
       "  </tbody>\n",
       "</table>\n",
       "</div>"
      ],
      "text/plain": [
       "     MID mouse age day population                label  Unnamed: 6  \\\n",
       "0   MID4   m11  8w  d0     biopsy     m11_biopsy_8w_d0         NaN   \n",
       "1  MID55   m11  8w  d0  Ly6c+YFP+  m11_Ly6c+YFP+_8w_d0         NaN   \n",
       "2  MID12   m11  8w  d0  Ly6c+YFP-  m11_Ly6c+YFP-_8w_d0         NaN   \n",
       "3  MID57   m11  8w  d0  Ly6c-YFP+  m11_Ly6c-YFP+_8w_d0         NaN   \n",
       "4  MID58   m11  8w  d0  Ly6c-YFP-  m11_Ly6c-YFP-_8w_d0         NaN   \n",
       "\n",
       "   Unnamed: 7 hex color  \n",
       "0         NaN   #0ea122  \n",
       "1         NaN   #fcbb2d  \n",
       "2         NaN   #0919ad  \n",
       "3         NaN   #e80707  \n",
       "4         NaN   #1ba8e0  "
      ]
     },
     "execution_count": 3,
     "metadata": {},
     "output_type": "execute_result"
    }
   ],
   "source": [
    "mid_metadata.head()"
   ]
  },
  {
   "cell_type": "code",
   "execution_count": 4,
   "id": "75a1b866-31c5-4664-a1f7-74d329fb9728",
   "metadata": {},
   "outputs": [],
   "source": [
    "sampleid = list_of_samples[0]\n",
    "tree_paths = [item for item in pathlib.Path(os.path.join(inputdir, sampleid)).glob(\"*\") if os.path.isdir(item) == True]\n",
    "\n",
    "list_of_trees = [read_tree_from_path(treedir) for treedir in tree_paths]\n",
    "list_of_trees = [item for item in list_of_trees if item is not None]\n",
    "\n",
    "forest = LabForest(list_of_trees)\n",
    "forest_featuredf = lab_forest_features(forest, forest_name = sampleid)"
   ]
  },
  {
   "cell_type": "code",
   "execution_count": null,
   "id": "43a68988-5f8b-4ba2-9407-394432512a8b",
   "metadata": {},
   "outputs": [],
   "source": []
  }
 ],
 "metadata": {
  "kernelspec": {
   "display_name": "Python 3 (ipykernel)",
   "language": "python",
   "name": "python3"
  },
  "language_info": {
   "codemirror_mode": {
    "name": "ipython",
    "version": 3
   },
   "file_extension": ".py",
   "mimetype": "text/x-python",
   "name": "python",
   "nbconvert_exporter": "python",
   "pygments_lexer": "ipython3",
   "version": "3.10.13"
  }
 },
 "nbformat": 4,
 "nbformat_minor": 5
}
