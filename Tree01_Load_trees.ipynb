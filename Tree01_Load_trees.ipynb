{
 "cells": [
  {
   "cell_type": "code",
   "execution_count": null,
   "metadata": {},
   "outputs": [
    {
     "name": "stderr",
     "output_type": "stream",
     "text": [
      "/home/hieunguyen/miniconda3/envs/ete3_py39/lib/python3.9/site-packages/tqdm/auto.py:21: TqdmWarning: IProgress not found. Please update jupyter and ipywidgets. See https://ipywidgets.readthedocs.io/en/stable/user_install.html\n",
      "  from .autonotebook import tqdm as notebook_tqdm\n"
     ]
    }
   ],
   "source": [
    "import pandas as pd\n",
    "import numpy as np\n",
    "import pathlib\n",
    "import matplotlib.pyplot as plt\n",
    "import seaborn as sns\n",
    "import os\n",
    "from tqdm import tqdm\n",
    "from typing import List, Union, Optional, Callable\n",
    "import pickle\n",
    "\n",
    "from ete3 import Tree, TreeNode\n",
    "from gctree import CollapsedTree\n",
    "\n",
    "from sklearn.decomposition import PCA\n",
    "from sklearn.preprocessing import StandardScaler\n",
    "import umap\n",
    "from GCTree_preparation import *\n",
    "import warnings\n",
    "warnings.filterwarnings(\"ignore\")\n",
    "\n",
    "path_to_storage = \"/media/hieunguyen/HNSD01/storage/all_BSimons_datasets\"\n",
    "\n",
    "PROJECT = \"220701_etc_biopsies\"\n",
    "\n",
    "output_type = \"mouse_based_output\"\n",
    "\n",
    "path_to_trees = os.path.join(path_to_storage, PROJECT, \"GCtrees/v0.2\", output_type)\n",
    "\n",
    "all_tree_folder = [item for item in pathlib.Path(path_to_trees).glob(\"*\") if \n",
    "                   os.path.isfile(f\"{str(item)}/02_dnapars/gctree.out.inference.1.nk\") == True]\n",
    "\n",
    "all_nk_files = [item for item in pathlib.Path(path_to_trees).glob(\"*/*/*gctree.out.inference.1.nk\")]  \n",
    "print(f\"Number of trees: {len(all_tree_folder)}\")   "
   ]
  },
  {
   "cell_type": "code",
   "execution_count": null,
   "metadata": {},
   "outputs": [
    {
     "ename": "NameError",
     "evalue": "name 'GCtree' is not defined",
     "output_type": "error",
     "traceback": [
      "\u001b[0;31m---------------------------------------------------------------------------\u001b[0m",
      "\u001b[0;31mNameError\u001b[0m                                 Traceback (most recent call last)",
      "Cell \u001b[0;32mIn[25], line 12\u001b[0m\n\u001b[1;32m     10\u001b[0m     \u001b[38;5;28;01mfor\u001b[39;00m node \u001b[38;5;129;01min\u001b[39;00m tree\u001b[38;5;241m.\u001b[39mtraverse():\n\u001b[1;32m     11\u001b[0m         node\u001b[38;5;241m.\u001b[39madd_feature(\u001b[38;5;124m'\u001b[39m\u001b[38;5;124mabundance\u001b[39m\u001b[38;5;124m'\u001b[39m, ab_dict\u001b[38;5;241m.\u001b[39mget(node\u001b[38;5;241m.\u001b[39mname, \u001b[38;5;241m0\u001b[39m))\n\u001b[0;32m---> 12\u001b[0m treeobj \u001b[38;5;241m=\u001b[39m \u001b[43mGCtree\u001b[49m(tree \u001b[38;5;241m=\u001b[39m tree, path \u001b[38;5;241m=\u001b[39m tree_path)\n",
      "\u001b[0;31mNameError\u001b[0m: name 'GCtree' is not defined"
     ]
    }
   ],
   "source": [
    "treedir = all_tree_folder[0]\n",
    "cloneid = treedir.name\n",
    "nk_path = f\"{treedir}/02_dnapars/gctree.out.inference.1.nk\"\n",
    "ab_dict_path = os.path.join(treedir, \"01_deduplicate\", f\"{cloneid}.abundance.csv\")\n",
    "abund_df = pd.read_csv(ab_dict_path, index_col=0, names=['val'])\n",
    "ab_dict = abund_df.to_dict().get('val')\n",
    "tree_path = treedir\n",
    "tree = Tree(newick=nk_path, format=1)\n",
    "if ab_dict is not None:\n",
    "    for node in tree.traverse():\n",
    "        node.add_feature('abundance', ab_dict.get(node.name, 0))\n",
    "treeobj = GCtree(tree = tree, path = tree_path)"
   ]
  },
  {
   "cell_type": "code",
   "execution_count": null,
   "metadata": {},
   "outputs": [
    {
     "data": {
      "text/plain": [
       "'/media/hieunguyen/HNSD01/storage/all_BSimons_datasets/220701_etc_biopsies/GCtrees/v0.2/mouse_based_output/m31_IGHV14-3-01_IGHJ1-03_42_1.aln/gctree.out.inference.1.nk'"
      ]
     },
     "execution_count": 24,
     "metadata": {},
     "output_type": "execute_result"
    }
   ],
   "source": [
    "'/media/hieunguyen/HNSD01/storage/all_BSimons_datasets/220701_etc_biopsies/GCtrees/v0.2/mouse_based_output/m31_IGHV14-3-01_IGHJ1-03_42_1.aln/gctree.out.inference.1.nk''/media/hieunguyen/HNSD01/storage/all_BSimons_datasets/220701_etc_biopsies/GCtrees/v0.2/mouse_based_output/m31_IGHV14-3-01_IGHJ1-03_42_1.aln/gctree.out.inference.1.nk''/media/hieunguyen/HNSD01/storage/all_BSimons_datasets/220701_etc_biopsies/GCtrees/v0.2/mouse_based_output/m31_IGHV14-3-01_IGHJ1-03_42_1.aln/gctree.out.inference.1.nk'"
   ]
  }
 ],
 "metadata": {
  "kernelspec": {
   "display_name": "ete3_py39",
   "language": "python",
   "name": "python3"
  },
  "language_info": {
   "codemirror_mode": {
    "name": "ipython",
    "version": 3
   },
   "file_extension": ".py",
   "mimetype": "text/x-python",
   "name": "python",
   "nbconvert_exporter": "python",
   "pygments_lexer": "ipython3",
   "version": "3.9.20"
  }
 },
 "nbformat": 4,
 "nbformat_minor": 2
}
