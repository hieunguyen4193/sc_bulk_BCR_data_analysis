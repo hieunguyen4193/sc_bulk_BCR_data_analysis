{
 "cells": [
  {
   "cell_type": "code",
   "execution_count": null,
   "metadata": {},
   "outputs": [
    {
     "name": "stderr",
     "output_type": "stream",
     "text": [
      "/home/hieunguyen/miniconda3/envs/ete3_py39/lib/python3.9/site-packages/tqdm/auto.py:21: TqdmWarning: IProgress not found. Please update jupyter and ipywidgets. See https://ipywidgets.readthedocs.io/en/stable/user_install.html\n",
      "  from .autonotebook import tqdm as notebook_tqdm\n"
     ]
    },
    {
     "name": "stdout",
     "output_type": "stream",
     "text": [
      "Number of trees: 7618\n"
     ]
    }
   ],
   "source": [
    "import pandas as pd\n",
    "import numpy as np\n",
    "import pathlib\n",
    "import matplotlib.pyplot as plt\n",
    "import seaborn as sns\n",
    "import os\n",
    "from tqdm import tqdm\n",
    "from typing import List, Union, Optional, Callable\n",
    "import pickle\n",
    "\n",
    "from ete3 import Tree, TreeNode\n",
    "from gctree import CollapsedTree\n",
    "\n",
    "from sklearn.decomposition import PCA\n",
    "from sklearn.preprocessing import StandardScaler\n",
    "import umap\n",
    "from GCTree_preparation import *\n",
    "import warnings\n",
    "warnings.filterwarnings(\"ignore\")\n",
    "\n",
    "path_to_storage = \"/media/hieunguyen/HNSD01/storage/all_BSimons_datasets\"\n",
    "\n",
    "PROJECT = \"220701_etc_biopsies\"\n",
    "\n",
    "output_type = \"mouse_based_output\"\n",
    "\n",
    "path_to_trees = os.path.join(path_to_storage, PROJECT, \"GCtrees/v0.2\", output_type)\n",
    "\n",
    "all_tree_folder = [item for item in pathlib.Path(path_to_trees).glob(\"*\") if \n",
    "                   os.path.isfile(f\"{str(item)}/02_dnapars/gctree.out.inference.1.nk\") == True]\n",
    "\n",
    "all_nk_files = [item for item in pathlib.Path(path_to_trees).glob(\"*/*/*gctree.out.inference.1.nk\")]  \n",
    "print(f\"Number of trees: {len(all_tree_folder)}\")   "
   ]
  },
  {
   "cell_type": "code",
   "execution_count": 11,
   "metadata": {},
   "outputs": [
    {
     "data": {
      "text/html": [
       "<div>\n",
       "<style scoped>\n",
       "    .dataframe tbody tr th:only-of-type {\n",
       "        vertical-align: middle;\n",
       "    }\n",
       "\n",
       "    .dataframe tbody tr th {\n",
       "        vertical-align: top;\n",
       "    }\n",
       "\n",
       "    .dataframe thead th {\n",
       "        text-align: right;\n",
       "    }\n",
       "</style>\n",
       "<table border=\"1\" class=\"dataframe\">\n",
       "  <thead>\n",
       "    <tr style=\"text-align: right;\">\n",
       "      <th></th>\n",
       "      <th>cloneid</th>\n",
       "      <th>mouseID</th>\n",
       "      <th>V_gene</th>\n",
       "      <th>J_gene</th>\n",
       "      <th>CDR3_len</th>\n",
       "      <th>num_nodes</th>\n",
       "      <th>num_leaves</th>\n",
       "      <th>num_internal_nodes</th>\n",
       "      <th>num_passthrough_nodes</th>\n",
       "      <th>num_split_nodes</th>\n",
       "      <th>num_observed_nodes</th>\n",
       "      <th>num_inferred_nodes</th>\n",
       "    </tr>\n",
       "  </thead>\n",
       "  <tbody>\n",
       "    <tr>\n",
       "      <th>0</th>\n",
       "      <td>m31_IGHV14-3-01_IGHJ1-03_42_1.aln</td>\n",
       "      <td>m31</td>\n",
       "      <td>IGHV14-3-01</td>\n",
       "      <td>IGHJ1-03</td>\n",
       "      <td>42</td>\n",
       "      <td>3</td>\n",
       "      <td>1</td>\n",
       "      <td>1</td>\n",
       "      <td>1</td>\n",
       "      <td>0</td>\n",
       "      <td>2</td>\n",
       "      <td>1</td>\n",
       "    </tr>\n",
       "  </tbody>\n",
       "</table>\n",
       "</div>"
      ],
      "text/plain": [
       "                             cloneid mouseID       V_gene    J_gene CDR3_len  \\\n",
       "0  m31_IGHV14-3-01_IGHJ1-03_42_1.aln     m31  IGHV14-3-01  IGHJ1-03       42   \n",
       "\n",
       "   num_nodes  num_leaves  num_internal_nodes  num_passthrough_nodes  \\\n",
       "0          3           1                   1                      1   \n",
       "\n",
       "   num_split_nodes  num_observed_nodes  num_inferred_nodes  \n",
       "0                0                   2                   1  "
      ]
     },
     "execution_count": 11,
     "metadata": {},
     "output_type": "execute_result"
    }
   ],
   "source": [
    "# loop throught all trees\n",
    "treedir = all_tree_folder[0]\n",
    "\n",
    "cloneid = treedir.name\n",
    "treedir = str(treedir)\n",
    "\n",
    "mouseID = cloneid.split(\"_\")[0]\n",
    "V_gene = cloneid.split(\"_\")[1]\n",
    "J_gene = cloneid.split(\"_\")[2]\n",
    "CDR3_len = cloneid.split(\"_\")[3]\n",
    "\n",
    "nk_path = f\"{treedir}/02_dnapars/gctree.out.inference.1.nk\"\n",
    "ab_dict_path = os.path.join(treedir, \"01_deduplicate\", f\"{cloneid}.abundance.csv\")\n",
    "abund_df = pd.read_csv(ab_dict_path, index_col=0, names=['val'])\n",
    "ab_dict = abund_df.to_dict().get('val')\n",
    "tree_path = treedir\n",
    "tree = Tree(newick=nk_path, format=1)\n",
    "if ab_dict is not None:\n",
    "    for node in tree.traverse():\n",
    "        node.add_feature('abundance', ab_dict.get(node.name, 0))\n",
    "treeobj = GCtree(tree = tree, path = tree_path)\n",
    "\n",
    "num_nodes = len(treeobj.nodes)\n",
    "num_leaves = len(treeobj.leaves)\n",
    "num_internal_nodes = len(treeobj.internal_nodes)\n",
    "num_passthrough_nodes = len(treeobj.passthrough_nodes)\n",
    "num_split_nodes = len(treeobj.split_nodes)\n",
    "num_observed_nodes = len(treeobj.observed_nodes)\n",
    "num_inferred_nodes = len(treeobj.inferred_nodes)\n",
    "\n",
    "tmpdf = pd.DataFrame(\n",
    "    {\n",
    "        \"cloneid\": cloneid,\n",
    "        \"mouseID\": mouseID,\n",
    "        \"V_gene\": V_gene,\n",
    "        \"J_gene\": J_gene,\n",
    "        \"CDR3_len\": CDR3_len,\n",
    "        \"num_nodes\": num_nodes,\n",
    "        \"num_leaves\": num_leaves,\n",
    "        \"num_internal_nodes\": num_internal_nodes,\n",
    "        \"num_passthrough_nodes\": num_passthrough_nodes,\n",
    "        \"num_split_nodes\": num_split_nodes,\n",
    "        \"num_observed_nodes\": num_observed_nodes,\n",
    "        \"num_inferred_nodes\": num_inferred_nodes,\n",
    "    },\n",
    "    index=[0],\n",
    ")\n",
    "tmpdf"
   ]
  },
  {
   "cell_type": "code",
   "execution_count": null,
   "metadata": {},
   "outputs": [
    {
     "data": {
      "text/plain": [
       "'m31_IGHV14-3-01_IGHJ1-03_42_1.aln'"
      ]
     },
     "execution_count": 8,
     "metadata": {},
     "output_type": "execute_result"
    }
   ],
   "source": []
  }
 ],
 "metadata": {
  "kernelspec": {
   "display_name": "ete3_py39",
   "language": "python",
   "name": "python3"
  },
  "language_info": {
   "codemirror_mode": {
    "name": "ipython",
    "version": 3
   },
   "file_extension": ".py",
   "mimetype": "text/x-python",
   "name": "python",
   "nbconvert_exporter": "python",
   "pygments_lexer": "ipython3",
   "version": "3.9.20"
  }
 },
 "nbformat": 4,
 "nbformat_minor": 2
}
