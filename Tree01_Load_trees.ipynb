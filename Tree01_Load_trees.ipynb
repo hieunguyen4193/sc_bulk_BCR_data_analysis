{
 "cells": [
  {
   "cell_type": "code",
   "execution_count": 1,
   "metadata": {},
   "outputs": [
    {
     "name": "stderr",
     "output_type": "stream",
     "text": [
      "/home/hieunguyen/miniconda3/envs/ete3_py39/lib/python3.9/site-packages/tqdm/auto.py:21: TqdmWarning: IProgress not found. Please update jupyter and ipywidgets. See https://ipywidgets.readthedocs.io/en/stable/user_install.html\n",
      "  from .autonotebook import tqdm as notebook_tqdm\n"
     ]
    },
    {
     "name": "stdout",
     "output_type": "stream",
     "text": [
      "Number of trees: 7618\n"
     ]
    }
   ],
   "source": [
    "import pandas as pd\n",
    "import numpy as np\n",
    "import pathlib\n",
    "import matplotlib.pyplot as plt\n",
    "import seaborn as sns\n",
    "import os\n",
    "from tqdm import tqdm\n",
    "from typing import List, Union, Optional, Callable\n",
    "import pickle\n",
    "from Bio import AlignIO, SeqIO\n",
    "from ete3 import Tree, TreeNode\n",
    "from gctree import CollapsedTree\n",
    "\n",
    "from sklearn.decomposition import PCA\n",
    "from sklearn.preprocessing import StandardScaler\n",
    "import umap\n",
    "from ete3 import Tree, faces, TreeStyle, NodeStyle, TextFace, SequenceFace, COLOR_SCHEMES\n",
    "from GCTree_preparation import *\n",
    "import warnings\n",
    "warnings.filterwarnings(\"ignore\")\n",
    "\n",
    "path_to_storage = \"/media/hieunguyen/HNSD01/storage/all_BSimons_datasets\"\n",
    "outdir = \"/media/hieunguyen/HNSD_mini/outdir/sc_bulk_BCR_data_analysis_v0.1\"\n",
    "\n",
    "PROJECT = \"220701_etc_biopsies\"\n",
    "path_to_main_output = f\"{outdir}/tree_analysis/{PROJECT}\"\n",
    "path_to_01_output = os.path.join(path_to_main_output, \"01_output\")\n",
    "os.system(f\"mkdir -p {path_to_01_output}\")\n",
    "\n",
    "output_type = \"mouse_based_output\"\n",
    "\n",
    "path_to_trees = os.path.join(path_to_storage, PROJECT, \"GCtrees/v0.2\", output_type)\n",
    "\n",
    "all_tree_folder = [item for item in pathlib.Path(path_to_trees).glob(\"*\") if \n",
    "                   os.path.isfile(f\"{str(item)}/02_dnapars/gctree.out.inference.1.nk\") == True]\n",
    "\n",
    "all_nk_files = [item for item in pathlib.Path(path_to_trees).glob(\"*/*/*gctree.out.inference.1.nk\")]  \n",
    "print(f\"Number of trees: {len(all_tree_folder)}\")   "
   ]
  },
  {
   "cell_type": "code",
   "execution_count": 3,
   "metadata": {},
   "outputs": [
    {
     "name": "stderr",
     "output_type": "stream",
     "text": [
      "100%|██████████| 7618/7618 [02:58<00:00, 42.72it/s]\n"
     ]
    }
   ],
   "source": [
    "rerun = True\n",
    "if (os.path.isfile(f\"{path_to_01_output}/tree_summarydf.csv\") == False) or (rerun == True):\n",
    "    saveTreeobj = dict()\n",
    "    # loop through all trees\n",
    "    maindf = pd.DataFrame()\n",
    "    # for treedir in tqdm(all_tree_folder[0:1]):\n",
    "    for treedir in tqdm(all_tree_folder):\n",
    "        cloneid = treedir.name\n",
    "        treedir = str(treedir)\n",
    "\n",
    "        mouseID = cloneid.split(\"_\")[0]\n",
    "        V_gene = cloneid.split(\"_\")[1]\n",
    "        J_gene = cloneid.split(\"_\")[2]\n",
    "        CDR3_len = cloneid.split(\"_\")[3]\n",
    "\n",
    "        nk_path = f\"{treedir}/02_dnapars/gctree.out.inference.1.nk\"\n",
    "        ab_dict_path = os.path.join(treedir, \"01_deduplicate\", f\"{cloneid}.abundance.csv\")\n",
    "        path_to_orig_fasta= f\"{treedir}/01_deduplicate/{cloneid}.fasta\"\n",
    "        input_idmaps = f\"{treedir}/01_deduplicate/{cloneid}.id_map_seq.csv\"\n",
    "        \n",
    "        abund_df = pd.read_csv(ab_dict_path, index_col=0, names=['val'])\n",
    "        ab_dict = abund_df.to_dict().get('val')\n",
    "        tree_path = treedir\n",
    "        tree = Tree(newick=nk_path, format=1)\n",
    "        if ab_dict is not None:\n",
    "            for node in tree.traverse():\n",
    "                node.add_feature('abundance', ab_dict.get(node.name, 0))\n",
    "        treeobj = GCtree(tree = tree, \n",
    "                        path = tree_path,\n",
    "                        origin_fasta = path_to_orig_fasta,\n",
    "                        idmap_seq = input_idmaps)\n",
    "        saveTreeobj[cloneid] = treeobj\n",
    "        seqdf_orig = treeobj.seqdf\n",
    "        seqs = treeobj.seqs\n",
    "        num_nodes = len(treeobj.nodes)\n",
    "        num_leaves = len(treeobj.leaves)\n",
    "        num_internal_nodes = len(treeobj.internal_nodes)\n",
    "        num_passthrough_nodes = len(treeobj.passthrough_nodes)\n",
    "        num_split_nodes = len(treeobj.split_nodes)\n",
    "        num_observed_nodes = len(treeobj.observed_nodes)\n",
    "        num_inferred_nodes = len(treeobj.inferred_nodes)\n",
    "\n",
    "        tmpdf = pd.DataFrame(\n",
    "            {\n",
    "                \"cloneid\": cloneid,\n",
    "                \"mouseID\": mouseID,\n",
    "                \"V_gene\": V_gene,\n",
    "                \"J_gene\": J_gene,\n",
    "                \"CDR3_len\": CDR3_len,\n",
    "                \"num_nodes\": num_nodes,\n",
    "                \"num_leaves\": num_leaves,\n",
    "                \"num_internal_nodes\": num_internal_nodes,\n",
    "                \"num_passthrough_nodes\": num_passthrough_nodes,\n",
    "                \"num_split_nodes\": num_split_nodes,\n",
    "                \"num_observed_nodes\": num_observed_nodes,\n",
    "                \"num_inferred_nodes\": num_inferred_nodes,\n",
    "                \"num_MID\": len(seqdf_orig[\"MID\"].unique()),\n",
    "                \"num_seq_fasta\": len(seqs)\n",
    "            },\n",
    "            index=[0],\n",
    "        )\n",
    "        maindf = pd.concat([maindf, tmpdf], axis = 0)\n",
    "    maindf = maindf.sort_values(by = \"num_MID\", ascending = False)\n",
    "    maindf.to_csv(f\"{path_to_01_output}/tree_summarydf.csv\", index = False)"
   ]
  },
  {
   "cell_type": "code",
   "execution_count": 5,
   "metadata": {},
   "outputs": [],
   "source": [
    "treeobj = saveTreeobj[\"m30_IGHV2-9_IGHJ1-03_45_1.aln\"]"
   ]
  },
  {
   "cell_type": "code",
   "execution_count": 10,
   "metadata": {},
   "outputs": [
    {
     "data": {
      "image/png": "[encoded data removed]",
      "text/plain": [
       "<IPython.core.display.Image object>"
      ]
     },
     "execution_count": 10,
     "metadata": {},
     "output_type": "execute_result"
    }
   ],
   "source": [
    "treeobj.tree.render(\"%%inline\")"
   ]
  }
 ],
 "metadata": {
  "kernelspec": {
   "display_name": "ete3_py39",
   "language": "python",
   "name": "python3"
  },
  "language_info": {
   "codemirror_mode": {
    "name": "ipython",
    "version": 3
   },
   "file_extension": ".py",
   "mimetype": "text/x-python",
   "name": "python",
   "nbconvert_exporter": "python",
   "pygments_lexer": "ipython3",
   "version": "3.9.20"
  }
 },
 "nbformat": 4,
 "nbformat_minor": 2
}
