{
 "cells": [
  {
   "cell_type": "code",
   "execution_count": 16,
   "metadata": {},
   "outputs": [
    {
     "name": "stdout",
     "output_type": "stream",
     "text": [
      "Number of trees: 7618\n"
     ]
    }
   ],
   "source": [
    "import pandas as pd\n",
    "import numpy as np\n",
    "import pathlib\n",
    "import matplotlib.pyplot as plt\n",
    "import seaborn as sns\n",
    "import os\n",
    "from tqdm import tqdm\n",
    "from typing import List, Union, Optional, Callable\n",
    "import pickle\n",
    "from Bio import AlignIO, SeqIO\n",
    "from ete3 import Tree, TreeNode\n",
    "from gctree import CollapsedTree\n",
    "\n",
    "from sklearn.decomposition import PCA\n",
    "from sklearn.preprocessing import StandardScaler\n",
    "import umap\n",
    "from ete3 import Tree, faces, TreeStyle, NodeStyle, TextFace, SequenceFace, COLOR_SCHEMES\n",
    "from GCTree_preparation import *\n",
    "import warnings\n",
    "warnings.filterwarnings(\"ignore\")\n",
    "\n",
    "path_to_storage = \"/media/hieunguyen/HNSD01/storage/all_BSimons_datasets\"\n",
    "\n",
    "PROJECT = \"220701_etc_biopsies\"\n",
    "\n",
    "output_type = \"mouse_based_output\"\n",
    "\n",
    "path_to_trees = os.path.join(path_to_storage, PROJECT, \"GCtrees/v0.2\", output_type)\n",
    "\n",
    "all_tree_folder = [item for item in pathlib.Path(path_to_trees).glob(\"*\") if \n",
    "                   os.path.isfile(f\"{str(item)}/02_dnapars/gctree.out.inference.1.nk\") == True]\n",
    "\n",
    "all_nk_files = [item for item in pathlib.Path(path_to_trees).glob(\"*/*/*gctree.out.inference.1.nk\")]  \n",
    "print(f\"Number of trees: {len(all_tree_folder)}\")   "
   ]
  },
  {
   "cell_type": "code",
   "execution_count": null,
   "metadata": {},
   "outputs": [
    {
     "name": "stderr",
     "output_type": "stream",
     "text": [
      "  0%|          | 0/7618 [00:00<?, ?it/s]"
     ]
    },
    {
     "name": "stderr",
     "output_type": "stream",
     "text": [
      "  8%|▊         | 590/7618 [00:05<01:05, 107.45it/s]"
     ]
    }
   ],
   "source": [
    "# loop throught all trees\n",
    "maindf = pd.DataFrame()\n",
    "# for treedir in tqdm(all_tree_folder[0:1]):\n",
    "for treedir in tqdm(all_tree_folder):\n",
    "    cloneid = treedir.name\n",
    "    treedir = str(treedir)\n",
    "\n",
    "    mouseID = cloneid.split(\"_\")[0]\n",
    "    V_gene = cloneid.split(\"_\")[1]\n",
    "    J_gene = cloneid.split(\"_\")[2]\n",
    "    CDR3_len = cloneid.split(\"_\")[3]\n",
    "\n",
    "    nk_path = f\"{treedir}/02_dnapars/gctree.out.inference.1.nk\"\n",
    "    ab_dict_path = os.path.join(treedir, \"01_deduplicate\", f\"{cloneid}.abundance.csv\")\n",
    "    abund_df = pd.read_csv(ab_dict_path, index_col=0, names=['val'])\n",
    "    ab_dict = abund_df.to_dict().get('val')\n",
    "    tree_path = treedir\n",
    "    tree = Tree(newick=nk_path, format=1)\n",
    "    if ab_dict is not None:\n",
    "        for node in tree.traverse():\n",
    "            node.add_feature('abundance', ab_dict.get(node.name, 0))\n",
    "    treeobj = GCtree(tree = tree, path = tree_path)\n",
    "\n",
    "    num_nodes = len(treeobj.nodes)\n",
    "    num_leaves = len(treeobj.leaves)\n",
    "    num_internal_nodes = len(treeobj.internal_nodes)\n",
    "    num_passthrough_nodes = len(treeobj.passthrough_nodes)\n",
    "    num_split_nodes = len(treeobj.split_nodes)\n",
    "    num_observed_nodes = len(treeobj.observed_nodes)\n",
    "    num_inferred_nodes = len(treeobj.inferred_nodes)\n",
    "\n",
    "    path_to_orig_fasta= f\"{treedir}/01_deduplicate/{cloneid}.fasta\"\n",
    "    input_idmaps = f\"{treedir}/01_deduplicate/{cloneid}.id_map_seq.csv\"\n",
    "    idmapseqdf = pd.read_csv(input_idmaps, skiprows=1, header=None)\n",
    "    path_to_gctree_inference = nk_path\n",
    "\n",
    "    idmapseqdf.columns = [\"seqid\", \"seq\"]\n",
    "    with open(path_to_orig_fasta) as fasta_file:  # Will close handle cleanly\n",
    "        identifiers = []\n",
    "        seqs = []\n",
    "        for seq_record in SeqIO.parse(fasta_file, 'fasta'):  # (generator)\n",
    "            identifiers.append(seq_record.id)\n",
    "            seqs.append(str(seq_record.seq))\n",
    "\n",
    "    seqdf = pd.DataFrame(data = identifiers, columns = [\"ID\"])\n",
    "    seqdf[\"seq\"] = seqs\n",
    "    seqdf = seqdf[seqdf[\"ID\"] != \"GL\"]\n",
    "    seqdf[\"abundance\"] = seqdf[\"ID\"].apply(lambda x: int(x.split(\"|\")[-1].replace(\"Abundance:\", \"\")))\n",
    "    seqdf[\"MID\"] = seqdf[\"ID\"].apply(lambda x: str(x.split(\"|\")[0].replace(\"Sample:\", \"\")))\n",
    "    seqdf_orig = seqdf.copy()\n",
    "    seqdf = seqdf.groupby(\"seq\")[\"abundance\"].sum().reset_index().copy()\n",
    "\n",
    "    seqdf = seqdf.merge(idmapseqdf, right_on = \"seq\", left_on = \"seq\")\n",
    "\n",
    "    tmpdf = pd.DataFrame(\n",
    "        {\n",
    "            \"cloneid\": cloneid,\n",
    "            \"mouseID\": mouseID,\n",
    "            \"V_gene\": V_gene,\n",
    "            \"J_gene\": J_gene,\n",
    "            \"CDR3_len\": CDR3_len,\n",
    "            \"num_nodes\": num_nodes,\n",
    "            \"num_leaves\": num_leaves,\n",
    "            \"num_internal_nodes\": num_internal_nodes,\n",
    "            \"num_passthrough_nodes\": num_passthrough_nodes,\n",
    "            \"num_split_nodes\": num_split_nodes,\n",
    "            \"num_observed_nodes\": num_observed_nodes,\n",
    "            \"num_inferred_nodes\": num_inferred_nodes,\n",
    "            \"num_MID\": len(seqdf_orig[\"MID\"].unique()),\n",
    "            \"num_seq_fasta\": len(seqs)\n",
    "        },\n",
    "        index=[0],\n",
    "    )\n",
    "    maindf = pd.concat([maindf, tmpdf], axis = 0)"
   ]
  }
 ],
 "metadata": {
  "kernelspec": {
   "display_name": "ete3_py39",
   "language": "python",
   "name": "python3"
  },
  "language_info": {
   "codemirror_mode": {
    "name": "ipython",
    "version": 3
   },
   "file_extension": ".py",
   "mimetype": "text/x-python",
   "name": "python",
   "nbconvert_exporter": "python",
   "pygments_lexer": "ipython3",
   "version": "3.9.20"
  }
 },
 "nbformat": 4,
 "nbformat_minor": 2
}
