{
 "cells": [
  {
   "cell_type": "code",
   "execution_count": 1,
   "metadata": {},
   "outputs": [
    {
     "name": "stderr",
     "output_type": "stream",
     "text": [
      "/home/hieunguyen/miniconda3/envs/ete3_py39/lib/python3.9/site-packages/tqdm/auto.py:21: TqdmWarning: IProgress not found. Please update jupyter and ipywidgets. See https://ipywidgets.readthedocs.io/en/stable/user_install.html\n",
      "  from .autonotebook import tqdm as notebook_tqdm\n"
     ]
    },
    {
     "name": "stdout",
     "output_type": "stream",
     "text": [
      "Number of trees: 446\n"
     ]
    },
    {
     "name": "stderr",
     "output_type": "stream",
     "text": [
      "100%|██████████| 2758/2758 [00:16<00:00, 168.40it/s]\n"
     ]
    }
   ],
   "source": [
    "import pandas as pd\n",
    "import numpy as np\n",
    "import pathlib\n",
    "import matplotlib.pyplot as plt\n",
    "import seaborn as sns\n",
    "import os\n",
    "from tqdm import tqdm\n",
    "from typing import List, Union, Optional, Callable\n",
    "import pickle\n",
    "from Bio import AlignIO, SeqIO\n",
    "from ete3 import Tree, TreeNode\n",
    "from gctree import CollapsedTree\n",
    "import nltk\n",
    "from sklearn.decomposition import PCA\n",
    "from sklearn.preprocessing import StandardScaler\n",
    "import umap\n",
    "from ete3 import Tree, faces, TreeStyle, NodeStyle, TextFace, SequenceFace, COLOR_SCHEMES, CircleFace\n",
    "from GCTree_preparation import *\n",
    "import warnings\n",
    "import math\n",
    "warnings.filterwarnings(\"ignore\")\n",
    "\n",
    "path_to_storage = \"/media/hieunguyen/HNHD01/storage/all_BSimons_datasets\"\n",
    "outdir = \"/media/hieunguyen/GSHD_HN01/outdir/sc_bulk_BCR_data_analysis_v0.1\"\n",
    "\n",
    "# PROJECT = \"240826_BSimons\"\n",
    "# sc_PROJECT = \"240805_BSimons_filterHT_cluster_renamed\"\n",
    "\n",
    "PROJECT = \"241031_BSimons\"\n",
    "sc_PROJECT = \"241002_241104_BSimons\"\n",
    "\n",
    "path_to_main_output = f\"{outdir}/tree_analysis/{PROJECT}\"\n",
    "path_to_01_output = os.path.join(path_to_main_output, \"01_output\")\n",
    "path_to_04_output = os.path.join(path_to_main_output, \"04_output\", f\"{PROJECT}_{sc_PROJECT}\")\n",
    "os.system(f\"mkdir -p {path_to_04_output}\")\n",
    "\n",
    "output_type = \"all\"\n",
    "rerun = True\n",
    "path_to_trees = os.path.join(path_to_storage, PROJECT, \"GCtrees/v0.2\", output_type)\n",
    "\n",
    "all_tree_folder = [item for item in pathlib.Path(path_to_trees).glob(\"*/*\") if \n",
    "                   os.path.isfile(f\"{str(item)}/02_dnapars/gctree.out.inference.1.nk\") == True]\n",
    "\n",
    "all_nk_files = [item for item in pathlib.Path(path_to_trees).glob(\"*/*/*gctree.out.inference.1.nk\")]  \n",
    "print(f\"Number of trees: {len(all_tree_folder)}\")   \n",
    "\n",
    "thres = 0.85\n",
    "\n",
    "mid_metadata = pd.read_excel(\"/media/hieunguyen/HNSD01/src/sc_bulk_BCR_data_analysis/preprocessing/240826_BSimons/240829 sample sheet.xlsx\")\n",
    "mid_metadata.columns = [\"MID\", \"mouse\", \"organ\", \"population\"]\n",
    "\n",
    "##### load tree object\n",
    "maindf = pd.read_csv(f\"{path_to_01_output}/tree_summarydf.csv\")\n",
    "    # Reload the dictionary from the pickle file\n",
    "with open(f\"{path_to_01_output}/saveTreeobj.pkl\", \"rb\") as f:\n",
    "    saveTreeobj = pickle.load(f)\n",
    "\n",
    "##### load tree summary df\n",
    "maindf = pd.read_csv(f\"{path_to_01_output}/tree_summarydf.addedAbundance.csv\")\n",
    "\n",
    "##### load distance df\n",
    "distdf = pd.read_csv(os.path.join(path_to_01_output, f\"{PROJECT}_distdf.csv\"))\n",
    "distdf[\"V_gene\"] = distdf[\"cloneID\"].apply(lambda x: \"-\".join(x.split(\"_\")[1].split(\"-\")[0:2]))\n",
    "distdf[\"J_gene\"] = distdf[\"cloneID\"].apply(lambda x: \"-\".join(x.split(\"_\")[2].split(\"-\")[0:1]))\n",
    "distdf[\"CDR3_len\"] = distdf[\"CDR3nt\"].apply(lambda x: len(x))\n",
    "##### load single cell clone df\n",
    "scdf = pd.read_csv(os.path.join(f\"{outdir}/GEX_output/11_output\", f\"{sc_PROJECT}.csv\"), index_col = [0])\n",
    "scdf[\"CDR3_len\"] = scdf[\"nSeqCDR3\"].apply(lambda x: len(x))\n",
    "scdf[\"SampleID\"] = scdf[\"barcode\"].apply(lambda x: x.split(\"_\")[0])\n",
    "if (os.path.isfile(os.path.join(path_to_04_output, f\"{PROJECT}_distdf.addedSCdist.xlsx\")) == False) or (rerun == True):\n",
    "    def get_min_dist_to_single_cells(i):\n",
    "        cloneid = distdf.iloc[i][\"cloneID\"]\n",
    "        v_gene = distdf.iloc[i][\"V_gene\"]\n",
    "        j_gene = distdf.iloc[i][\"J_gene\"]\n",
    "        cdr3_length = distdf.iloc[i][\"CDR3_len\"]\n",
    "        cdr3_seq = distdf.iloc[i][\"CDR3aa\"]\n",
    "        seqid = distdf.iloc[i][\"seqid\"]\n",
    "        tmpdf_scdf = scdf[(scdf[\"V.gene\"] == v_gene) & (scdf[\"J.gene\"] == j_gene) & (scdf[\"CDR3_len\"] == cdr3_length)]\n",
    "\n",
    "        if (tmpdf_scdf.shape[0] != 0):\n",
    "            tmpdf_scdf[\"bulk_CDR3aa\"] = cdr3_seq\n",
    "            tmpdf_scdf[\"countDiff_to_bulk_CDR3aa\"] = tmpdf_scdf[[\"aaSeqCDR3\", \"bulk_CDR3aa\"]].apply(\n",
    "                lambda x: nltk.edit_distance(x[0], x[1]), axis = 1\n",
    "            )\n",
    "            tmpdf_scdf[\"dist_to_bulk_CDR3aa\"] = tmpdf_scdf[[\"aaSeqCDR3\", \"bulk_CDR3aa\"]].apply(\n",
    "                lambda x: nltk.edit_distance(x[0], x[1]) / min(len(x[0]), len(x[1])), axis = 1\n",
    "            )\n",
    "            tmpdf_scdf[\"cloneID\"] = cloneid\n",
    "            tmpdf_scdf[\"seqid\"] = seqid\n",
    "            output = tmpdf_scdf.dist_to_bulk_CDR3aa.min()\n",
    "        else:\n",
    "            output = \"noSC\"\n",
    "        return(output)\n",
    "\n",
    "    distdf[\"min_dist_to_sc\"] = [get_min_dist_to_single_cells(i) for i in tqdm(range(distdf.shape[0]))]\n",
    "    distdf[\"V_gene\"] = distdf[\"cloneID\"].apply(lambda x: \"-\".join(x.split(\"_\")[1].split(\"-\")[0:2]))\n",
    "    distdf[\"J_gene\"] = distdf[\"cloneID\"].apply(lambda x: \"-\".join(x.split(\"_\")[2].split(\"-\")[0:1]))\n",
    "\n",
    "    def assign_match(x, thres):\n",
    "        if x == \"noSC\":\n",
    "            return(\"noSC\")\n",
    "        elif x <= thres:\n",
    "            return(\"match\")\n",
    "        else:\n",
    "            return(\"noMatch\")\n",
    "    distdf[\"match_sc\"] = distdf[\"min_dist_to_sc\"].apply(lambda x: assign_match(x, 0.15))\n",
    "    distdf.to_excel(os.path.join(path_to_04_output, f\"{PROJECT}_distdf.addedSCdist.xlsx\"))\n",
    "else:\n",
    "    print(\"reading in existed data ...\")\n",
    "    distdf = pd.read_excel(os.path.join(path_to_04_output, f\"{PROJECT}_distdf.addedSCdist.xlsx\"), index_col = [0])\n",
    "\n",
    "public_clonedf = pd.read_csv(\"public_clones.csv\")\n",
    "\n",
    "match_public_clonedf = pd.DataFrame()\n",
    "for i in range(public_clonedf.shape[0]):\n",
    "    v_gene = public_clonedf.iloc[i][\"V_gene\"]\n",
    "    j_gene = public_clonedf.iloc[i][\"J_gene\"]\n",
    "    public_sequence = public_clonedf.iloc[i][\"aaseq\"]\n",
    "    tmpdf = distdf[(distdf[\"V_gene\"] == v_gene) & (distdf[\"J_gene\"] == j_gene)]\n",
    "    tmpdf[\"public_CDR3aa\"] = public_sequence\n",
    "    match_public_clonedf = pd.concat([match_public_clonedf, tmpdf], axis = 0)\n",
    "\n",
    "match_public_clonedf[\"truncated_CDR3aa\"] = match_public_clonedf[\"CDR3aa\"].apply(lambda x: x[1:-1])\n",
    "match_public_clonedf[\"num_diff_public_clone\"] = match_public_clonedf[[\"truncated_CDR3aa\", \"public_CDR3aa\"]].apply(lambda x: nltk.edit_distance(x[0], x[1]), axis = 1)\n",
    "match_public_clonedf[\"dist_to_public_clone\"] = match_public_clonedf[[\"truncated_CDR3aa\", \"public_CDR3aa\"]].apply(lambda x: nltk.edit_distance(x[0], x[1])/min(len(x[0]), len(x[1])), axis = 1)\n",
    "match_public_clonedf.to_excel(os.path.join(path_to_04_output, f\"{PROJECT}_match_public_clonedf.xlsx\"))\n",
    "\n",
    "# for f in [ 'rootness',\n",
    "#        'topo_rootness', 'dist_to_deepest', 'topo_dist_to_deepest',\n",
    "#        'topo_furthest_child_node', 'topo_leafness']:\n",
    "#     plotdf = distdf[[\"num_node\", \"cloneID\", \"match_sc\", f]].copy()\n",
    "#     plotdf[\"mouseID\"] = plotdf[\"cloneID\"].apply(lambda x: x.split(\"_\")[0])\n",
    "\n",
    "#     plotdf = plotdf.sort_values(by = [\"mouseID\", \"num_node\", \"cloneID\", \"match_sc\"], ascending = [True, False, False, True])\n",
    "\n",
    "#     for mouseid in plotdf.mouseID.unique():\n",
    "#         for sampletype in [\"noSC\", \"match\", \"noMatch\"]:\n",
    "#             os.system(\"mkdir -p {}\".format(os.path.join(path_to_04_output, \"prism_plots\", mouseid)))\n",
    "\n",
    "#             all_ranked_clones = plotdf[(plotdf[\"mouseID\"] == mouseid) & (plotdf[\"match_sc\"] == sampletype)].cloneID.unique()\n",
    "#             prism_plotdf = pd.DataFrame()\n",
    "\n",
    "#             for cloneid in tqdm(all_ranked_clones):\n",
    "#                 tmpdf =  pd.DataFrame(data = plotdf[plotdf[\"cloneID\"] == cloneid][f].values).T\n",
    "#                 prism_plotdf = pd.concat([prism_plotdf, tmpdf], axis=0)\n",
    "\n",
    "#             prism_plotdf.reset_index().drop(\"index\", axis = 1).to_excel(os.path.join(path_to_04_output, \"prism_plots\", mouseid, f\"{sampletype}_{f}.xlsx\"), index = False, header = False)"
   ]
  },
  {
   "cell_type": "code",
   "execution_count": 2,
   "metadata": {},
   "outputs": [],
   "source": [
    "# f = \"topo_rootness\"\n",
    "# match_type = \"match\"\n",
    "os.system(f\"mkdir -p {os.path.join(path_to_04_output, 'inputHistogram')}\")\n",
    "\n",
    "for f in [\"topo_rootness\", \"topo_leafness\"]:\n",
    "    for match_type in distdf.match_sc.unique():\n",
    "        plotdf = distdf[(distdf[\"match_sc\"] == match_type)]\n",
    "        for mouseid in plotdf.mouseid.unique():\n",
    "            tmp_plotdf = plotdf[(plotdf[\"mouseid\"] == mouseid)]\n",
    "            outputdf = tmp_plotdf.groupby(f)[\"seqid\"].count().reset_index()\n",
    "            outputdf.columns = [f, match_type]\n",
    "            outputdf.to_excel(os.path.join(path_to_04_output, \"inputHistogram\", f\"inputHistogram_{f}_{match_type}_{mouseid}.xlsx\"), index = False)\n"
   ]
  },
  {
   "cell_type": "code",
   "execution_count": 3,
   "metadata": {},
   "outputs": [
    {
     "data": {
      "text/plain": [
       "<Axes: xlabel='topo_rootness', ylabel='Count'>"
      ]
     },
     "execution_count": 3,
     "metadata": {},
     "output_type": "execute_result"
    },
    {
     "data": {
      "image/png": "[encoded data removed]",
      "text/plain": [
       "<Figure size 640x480 with 1 Axes>"
      ]
     },
     "metadata": {},
     "output_type": "display_data"
    }
   ],
   "source": [
    "sns.histplot(data = distdf, x = \"topo_rootness\", hue = \"match_sc\", bins = 50, kde = True)"
   ]
  },
  {
   "cell_type": "code",
   "execution_count": 4,
   "metadata": {},
   "outputs": [],
   "source": [
    "for f in [\"topo_rootness\", \"topo_leafness\"]:\n",
    "    for match_type in distdf.match_sc.unique():\n",
    "        savedf = distdf[distdf[\"match_sc\"] == match_type].groupby(f)[\"seqid\"].count().reset_index()\n",
    "        savedf.columns = [f, \"count\"]\n",
    "        savedf.to_excel(os.path.join(path_to_04_output, \"inputHistogram\", f\"inputHistogram_{f}_{match_type}.xlsx\"), index = False)"
   ]
  },
  {
   "cell_type": "code",
   "execution_count": 5,
   "metadata": {},
   "outputs": [],
   "source": [
    "distdf[distdf[\"num_node\"] >= 10].to_excel(os.path.join(path_to_04_output, f\"{PROJECT}_distdf.addedSCdist.filter10.xlsx\"))"
   ]
  }
 ],
 "metadata": {
  "kernelspec": {
   "display_name": "ete3_py39",
   "language": "python",
   "name": "python3"
  },
  "language_info": {
   "codemirror_mode": {
    "name": "ipython",
    "version": 3
   },
   "file_extension": ".py",
   "mimetype": "text/x-python",
   "name": "python",
   "nbconvert_exporter": "python",
   "pygments_lexer": "ipython3",
   "version": "3.9.20"
  }
 },
 "nbformat": 4,
 "nbformat_minor": 2
}
