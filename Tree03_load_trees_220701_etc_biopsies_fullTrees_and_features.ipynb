{
 "cells": [
  {
   "cell_type": "code",
   "execution_count": 1,
   "metadata": {},
   "outputs": [
    {
     "name": "stderr",
     "output_type": "stream",
     "text": [
      "/home/hieunguyen/miniconda3/envs/ete3_py39/lib/python3.9/site-packages/tqdm/auto.py:21: TqdmWarning: IProgress not found. Please update jupyter and ipywidgets. See https://ipywidgets.readthedocs.io/en/stable/user_install.html\n",
      "  from .autonotebook import tqdm as notebook_tqdm\n"
     ]
    },
    {
     "name": "stdout",
     "output_type": "stream",
     "text": [
      "Number of trees: 7618\n"
     ]
    }
   ],
   "source": [
    "import pandas as pd\n",
    "import numpy as np\n",
    "import pathlib\n",
    "import matplotlib.pyplot as plt\n",
    "import seaborn as sns\n",
    "import os\n",
    "from tqdm import tqdm\n",
    "from typing import List, Union, Optional, Callable\n",
    "import pickle\n",
    "from Bio import AlignIO, SeqIO\n",
    "from ete3 import Tree, TreeNode\n",
    "from gctree import CollapsedTree\n",
    "\n",
    "from sklearn.decomposition import PCA\n",
    "from sklearn.preprocessing import StandardScaler\n",
    "import umap\n",
    "from ete3 import Tree, faces, TreeStyle, NodeStyle, TextFace, SequenceFace, COLOR_SCHEMES, CircleFace\n",
    "from GCTree_preparation import *\n",
    "import warnings\n",
    "\n",
    "from Bio import Phylo\n",
    "import math\n",
    "import community as community_louvain\n",
    "import matplotlib.cm as cm\n",
    "import matplotlib.pyplot as plt\n",
    "import networkx as nx\n",
    "\n",
    "# sklearn\n",
    "from sklearn import metrics\n",
    "\n",
    "warnings.filterwarnings(\"ignore\")\n",
    "\n",
    "path_to_storage = \"/media/hieunguyen/HNSD01/storage/all_BSimons_datasets\"\n",
    "outdir = \"/media/hieunguyen/HNSD_mini/outdir/sc_bulk_BCR_data_analysis_v0.1\"\n",
    "\n",
    "PROJECT = \"220701_etc_biopsies\"\n",
    "path_to_main_output = f\"{outdir}/tree_analysis/{PROJECT}\"\n",
    "path_to_01_output = os.path.join(path_to_main_output, \"01_output\")\n",
    "os.system(f\"mkdir -p {path_to_01_output}\")\n",
    "\n",
    "output_type = \"mouse_based_output\"\n",
    "\n",
    "path_to_trees = os.path.join(path_to_storage, PROJECT, \"GCtrees/v0.2\", output_type)\n",
    "\n",
    "all_tree_folder = [item for item in pathlib.Path(path_to_trees).glob(\"*\") if \n",
    "                   os.path.isfile(f\"{str(item)}/02_dnapars/gctree.out.inference.1.nk\") == True]\n",
    "\n",
    "all_nk_files = {all_tree_folder[i].name: os.path.join(all_tree_folder[i], \"02_dnapars\", \"gctree.out.inference.1.nk\") for i in range(len(all_tree_folder))}\n",
    "print(f\"Number of trees: {len(all_tree_folder)}\")   \n",
    "\n",
    "path_to_metadata = \"/media/hieunguyen/HNSD01/src/sc_bulk_BCR_data_analysis/preprocessing/220701_etc_biopsies/metadata.csv\"\n",
    "mid_metadata = pd.read_csv(path_to_metadata, sep =\";\")\n",
    "\n",
    "##### Re run the summary analysis of all trees and rendering tree figures\n",
    "# rerun = True\n",
    "rerun = False\n",
    "\n",
    "path_to_04_output = os.path.join(outdir, \"VDJ_output\", \"04_output\")\n",
    "thres = 0.85\n",
    "\n",
    "clonedf = pd.read_csv(os.path.join(path_to_04_output, \"full_clonedf_with_mutation_rate.csv\"), index_col= [0])\n",
    "clonedf = clonedf[clonedf['num_mutation'] != \"region_not_covered-skip\"]\n",
    "clonedf = clonedf[clonedf['dataset.name'] == \"220701_etc_biopsies\"]\n",
    "\n",
    "maindf = pd.read_csv(f\"{path_to_01_output}/tree_summarydf.csv\")\n",
    "    # Reload the dictionary from the pickle file\n",
    "with open(f\"{path_to_01_output}/saveTreeobj.pkl\", \"rb\") as f:\n",
    "    saveTreeobj = pickle.load(f)\n",
    "\n",
    "color_path = \"./hex_color.csv\""
   ]
  },
  {
   "cell_type": "code",
   "execution_count": 43,
   "metadata": {},
   "outputs": [],
   "source": [
    "##### analysis example for 1 tree. \n",
    "\n",
    "show_plot = True\n",
    "# cloneid = \"m30_IGHV1-82-01_IGHJ2-01_30_1.aln\"\n",
    "cloneid = \"m11_IGHV1-15*01_IGHJ1*03_48_1.aln\".replace(\"*\", \"-\")\n",
    "mouseid = cloneid.split(\"_\")[0]\n",
    "path_to_save_tree_svg = os.path.join(path_to_01_output, mouseid)\n",
    "os.system(f\"mkdir -p {path_to_save_tree_svg}\")\n",
    "\n",
    "treeobj = saveTreeobj[cloneid] \n",
    "avai_mids = treeobj.seqdf[\"MID\"].unique()\n",
    "mid_color_pal = pd.read_csv(color_path, index_col = [0]).to_dict()[\"hex color\"]\n",
    "\n",
    "ts = treeobj.generate_tree_style(color_path = color_path)\n",
    "\n",
    "for input_mid in avai_mids:\n",
    "    if input_mid == \"GL\":\n",
    "        input_mid_col = \"gray\"\n",
    "    else:\n",
    "        input_mid_col = mid_color_pal[input_mid]\n",
    "    ts.legend.add_face(CircleFace(10, input_mid_col), column = 0)\n",
    "    ts.legend.add_face(TextFace(mid_metadata[mid_metadata[\"Unnamed: 0\"]==input_mid][\"population\"].values[0]), column = 0)\n",
    "\n",
    "idmapdf = treeobj.idmapseqdf.copy()\n",
    "seqdf = treeobj.seqdf.copy()\n",
    "seqdf[\"population\"] = seqdf[\"MID\"].apply(lambda x: mid_metadata[mid_metadata[\"Unnamed: 0\"] == x][\"population\"].values[0])\n",
    "seqdf = seqdf.merge(idmapdf, right_on = \"seq\", left_on = \"seq\")\n",
    "if show_plot:\n",
    "    treeobj.tree.render(f\"%%inline\", tree_style=ts)\n"
   ]
  },
  {
   "cell_type": "code",
   "execution_count": 44,
   "metadata": {},
   "outputs": [
    {
     "data": {
      "image/png": "[encoded data removed]",
      "text/plain": [
       "<IPython.core.display.Image object>"
      ]
     },
     "execution_count": 44,
     "metadata": {},
     "output_type": "execute_result"
    }
   ],
   "source": [
    "treeobj.tree.render(f\"%%inline\", tree_style=ts)"
   ]
  },
  {
   "cell_type": "code",
   "execution_count": null,
   "metadata": {},
   "outputs": [
    {
     "name": "stderr",
     "output_type": "stream",
     "text": [
      "100%|██████████| 7618/7618 [02:19<00:00, 54.54it/s]\n"
     ]
    }
   ],
   "source": [
    "show_plot = False\n",
    "all_rand_idxs = []\n",
    "for cloneid in tqdm(saveTreeobj.keys()):\n",
    "    treeobj = saveTreeobj[cloneid]\n",
    "    cluster_resolution = 1\n",
    "\n",
    "    tree_rand_index = treeobj.cluster_samples_on_branches(\n",
    "        show_plot = show_plot,\n",
    "        cluster_resolution = cluster_resolution\n",
    "    )\n",
    "    all_rand_idxs.append(tree_rand_index)\n",
    "\n",
    "randdf = pd.DataFrame.from_dict(\n",
    "    {\n",
    "        \"cloneID\": saveTreeobj.keys(),\n",
    "        f\"rand_index_{cluster_resolution}\": all_rand_idxs\n",
    "    }\n",
    ")"
   ]
  },
  {
   "cell_type": "code",
   "execution_count": 45,
   "metadata": {},
   "outputs": [
    {
     "data": {
      "text/html": [
       "<div>\n",
       "<style scoped>\n",
       "    .dataframe tbody tr th:only-of-type {\n",
       "        vertical-align: middle;\n",
       "    }\n",
       "\n",
       "    .dataframe tbody tr th {\n",
       "        vertical-align: top;\n",
       "    }\n",
       "\n",
       "    .dataframe thead th {\n",
       "        text-align: right;\n",
       "    }\n",
       "</style>\n",
       "<table border=\"1\" class=\"dataframe\">\n",
       "  <thead>\n",
       "    <tr style=\"text-align: right;\">\n",
       "      <th></th>\n",
       "      <th>cloneID</th>\n",
       "      <th>rand_index_1</th>\n",
       "    </tr>\n",
       "  </thead>\n",
       "  <tbody>\n",
       "    <tr>\n",
       "      <th>0</th>\n",
       "      <td>m31_IGHV14-3-01_IGHJ1-03_42_1.aln</td>\n",
       "      <td>1.000000</td>\n",
       "    </tr>\n",
       "    <tr>\n",
       "      <th>1</th>\n",
       "      <td>m43_IGHV3-6-01_IGHJ2-01_42_2.aln</td>\n",
       "      <td>0.500000</td>\n",
       "    </tr>\n",
       "    <tr>\n",
       "      <th>2</th>\n",
       "      <td>m12_IGHV1-58-01_IGHJ2-01_33_2.aln</td>\n",
       "      <td>1.000000</td>\n",
       "    </tr>\n",
       "    <tr>\n",
       "      <th>3</th>\n",
       "      <td>m31_IGHV1-59-01_IGHJ3-01_36_5.aln</td>\n",
       "      <td>1.000000</td>\n",
       "    </tr>\n",
       "    <tr>\n",
       "      <th>4</th>\n",
       "      <td>m39_IGHV1-72-01_IGHJ2-01_39_6.aln</td>\n",
       "      <td>0.333333</td>\n",
       "    </tr>\n",
       "    <tr>\n",
       "      <th>...</th>\n",
       "      <td>...</td>\n",
       "      <td>...</td>\n",
       "    </tr>\n",
       "    <tr>\n",
       "      <th>7613</th>\n",
       "      <td>m30_IGHV1-64-01_IGHJ4-01_42_1.aln</td>\n",
       "      <td>1.000000</td>\n",
       "    </tr>\n",
       "    <tr>\n",
       "      <th>7614</th>\n",
       "      <td>m30_IGHV3-6-01_IGHJ3-01_24_1.aln</td>\n",
       "      <td>0.333333</td>\n",
       "    </tr>\n",
       "    <tr>\n",
       "      <th>7615</th>\n",
       "      <td>m32_IGHV6-3-01_IGHJ3-01_44_2.aln</td>\n",
       "      <td>0.200000</td>\n",
       "    </tr>\n",
       "    <tr>\n",
       "      <th>7616</th>\n",
       "      <td>m37_IGHV1-26-01_IGHJ3-01_42_5.aln</td>\n",
       "      <td>1.000000</td>\n",
       "    </tr>\n",
       "    <tr>\n",
       "      <th>7617</th>\n",
       "      <td>m37_IGHV1-9-01_IGHJ4-01_36_1.aln</td>\n",
       "      <td>1.000000</td>\n",
       "    </tr>\n",
       "  </tbody>\n",
       "</table>\n",
       "<p>7618 rows × 2 columns</p>\n",
       "</div>"
      ],
      "text/plain": [
       "                                cloneID  rand_index_1\n",
       "0     m31_IGHV14-3-01_IGHJ1-03_42_1.aln      1.000000\n",
       "1      m43_IGHV3-6-01_IGHJ2-01_42_2.aln      0.500000\n",
       "2     m12_IGHV1-58-01_IGHJ2-01_33_2.aln      1.000000\n",
       "3     m31_IGHV1-59-01_IGHJ3-01_36_5.aln      1.000000\n",
       "4     m39_IGHV1-72-01_IGHJ2-01_39_6.aln      0.333333\n",
       "...                                 ...           ...\n",
       "7613  m30_IGHV1-64-01_IGHJ4-01_42_1.aln      1.000000\n",
       "7614   m30_IGHV3-6-01_IGHJ3-01_24_1.aln      0.333333\n",
       "7615   m32_IGHV6-3-01_IGHJ3-01_44_2.aln      0.200000\n",
       "7616  m37_IGHV1-26-01_IGHJ3-01_42_5.aln      1.000000\n",
       "7617   m37_IGHV1-9-01_IGHJ4-01_36_1.aln      1.000000\n",
       "\n",
       "[7618 rows x 2 columns]"
      ]
     },
     "execution_count": 45,
     "metadata": {},
     "output_type": "execute_result"
    }
   ],
   "source": [
    "randdf"
   ]
  }
 ],
 "metadata": {
  "kernelspec": {
   "display_name": "ete3_py39",
   "language": "python",
   "name": "python3"
  },
  "language_info": {
   "codemirror_mode": {
    "name": "ipython",
    "version": 3
   },
   "file_extension": ".py",
   "mimetype": "text/x-python",
   "name": "python",
   "nbconvert_exporter": "python",
   "pygments_lexer": "ipython3",
   "version": "3.9.20"
  }
 },
 "nbformat": 4,
 "nbformat_minor": 2
}
