{
 "cells": [
  {
   "cell_type": "code",
   "execution_count": 1,
   "metadata": {},
   "outputs": [
    {
     "name": "stderr",
     "output_type": "stream",
     "text": [
      "/home/hieunguyen/miniconda3/envs/ete3_py39/lib/python3.9/site-packages/tqdm/auto.py:21: TqdmWarning: IProgress not found. Please update jupyter and ipywidgets. See https://ipywidgets.readthedocs.io/en/stable/user_install.html\n",
      "  from .autonotebook import tqdm as notebook_tqdm\n"
     ]
    },
    {
     "name": "stdout",
     "output_type": "stream",
     "text": [
      "Number of trees: 7618\n"
     ]
    }
   ],
   "source": [
    "import pandas as pd\n",
    "import numpy as np\n",
    "import pathlib\n",
    "import matplotlib.pyplot as plt\n",
    "import seaborn as sns\n",
    "import os\n",
    "from tqdm import tqdm\n",
    "from typing import List, Union, Optional, Callable\n",
    "import pickle\n",
    "from Bio import AlignIO, SeqIO\n",
    "from ete3 import Tree, TreeNode\n",
    "from gctree import CollapsedTree\n",
    "\n",
    "from sklearn.decomposition import PCA\n",
    "from sklearn.preprocessing import StandardScaler\n",
    "import umap\n",
    "from ete3 import Tree, faces, TreeStyle, NodeStyle, TextFace, SequenceFace, COLOR_SCHEMES, CircleFace\n",
    "from GCTree_preparation import *\n",
    "import warnings\n",
    "import math\n",
    "warnings.filterwarnings(\"ignore\")\n",
    "\n",
    "path_to_storage = \"/media/hieunguyen/HNSD01/storage/all_BSimons_datasets\"\n",
    "outdir = \"/media/hieunguyen/HNSD_mini/outdir/sc_bulk_BCR_data_analysis_v0.1\"\n",
    "\n",
    "PROJECT = \"220701_etc_biopsies\"\n",
    "path_to_main_output = f\"{outdir}/tree_analysis/{PROJECT}\"\n",
    "path_to_01_output = os.path.join(path_to_main_output, \"01_output\")\n",
    "os.system(f\"mkdir -p {path_to_01_output}\")\n",
    "\n",
    "output_type = \"mouse_based_output\"\n",
    "\n",
    "path_to_trees = os.path.join(path_to_storage, PROJECT, \"GCtrees/v0.2\", output_type)\n",
    "\n",
    "all_tree_folder = [item for item in pathlib.Path(path_to_trees).glob(\"*\") if \n",
    "                   os.path.isfile(f\"{str(item)}/02_dnapars/gctree.out.inference.1.nk\") == True]\n",
    "\n",
    "all_nk_files = [item for item in pathlib.Path(path_to_trees).glob(\"*/*/*gctree.out.inference.1.nk\")]  \n",
    "print(f\"Number of trees: {len(all_tree_folder)}\")   \n",
    "\n",
    "path_to_metadata = \"/media/hieunguyen/HNSD01/src/sc_bulk_BCR_data_analysis/preprocessing/220701_etc_biopsies/metadata.csv\"\n",
    "mid_metadata = pd.read_csv(path_to_metadata, sep =\";\")"
   ]
  },
  {
   "cell_type": "code",
   "execution_count": null,
   "metadata": {},
   "outputs": [
    {
     "name": "stderr",
     "output_type": "stream",
     "text": [
      " 28%|██▊       | 2130/7618 [00:47<01:42, 53.29it/s]"
     ]
    }
   ],
   "source": [
    "rerun = True\n",
    "if (os.path.isfile(f\"{path_to_01_output}/tree_summarydf.csv\") == False) or (rerun == True):\n",
    "    saveTreeobj = dict()\n",
    "    # loop through all trees\n",
    "    maindf = pd.DataFrame()\n",
    "    # for treedir in tqdm(all_tree_folder[0:1]):\n",
    "    for treedir in tqdm(all_tree_folder):\n",
    "        cloneid = treedir.name\n",
    "        treedir = str(treedir)\n",
    "\n",
    "        mouseID = cloneid.split(\"_\")[0]\n",
    "        V_gene = cloneid.split(\"_\")[1]\n",
    "        J_gene = cloneid.split(\"_\")[2]\n",
    "        CDR3_len = cloneid.split(\"_\")[3]\n",
    "\n",
    "        nk_path = f\"{treedir}/02_dnapars/gctree.out.inference.1.nk\"\n",
    "        ab_dict_path = os.path.join(treedir, \"01_deduplicate\", f\"{cloneid}.abundance.csv\")\n",
    "        path_to_orig_fasta= f\"{treedir}/01_deduplicate/{cloneid}.fasta\"\n",
    "        input_idmaps = f\"{treedir}/01_deduplicate/{cloneid}.id_map_seq.csv\"\n",
    "    \n",
    "        treeobj = GCtree(\n",
    "            nk_path = nk_path,\n",
    "            ab_dict_path = ab_dict_path,\n",
    "            origin_fasta = path_to_orig_fasta,\n",
    "            idmap_seq = input_idmaps\n",
    "        )\n",
    "        \n",
    "        saveTreeobj[cloneid] = treeobj\n",
    "        seqdf_orig = treeobj.seqdf\n",
    "        seqs = treeobj.seqs\n",
    "        num_nodes = len(treeobj.nodes)\n",
    "        num_leaves = len(treeobj.leaves)\n",
    "        num_internal_nodes = len(treeobj.internal_nodes)\n",
    "        num_passthrough_nodes = len(treeobj.passthrough_nodes)\n",
    "        num_split_nodes = len(treeobj.split_nodes)\n",
    "        num_observed_nodes = len(treeobj.observed_nodes)\n",
    "        num_inferred_nodes = len(treeobj.inferred_nodes)\n",
    "        count_single_node = treeobj.count_single_node\n",
    "        count_mix_node = treeobj.count_mix_node\n",
    "        all_MIDs = seqdf_orig[\"MID\"].unique()\n",
    "        all_groups = [mid_metadata[mid_metadata[\"Unnamed: 0\"] == item][\"population\"].unique()[0] for item in all_MIDs]\n",
    "        tmpdf = pd.DataFrame(\n",
    "            {\n",
    "                \"cloneid\": cloneid,\n",
    "                \"mouseID\": mouseID,\n",
    "                \"V_gene\": V_gene,\n",
    "                \"J_gene\": J_gene,\n",
    "                \"CDR3_len\": CDR3_len,\n",
    "                \"num_nodes\": num_nodes,\n",
    "                \"num_leaves\": num_leaves,\n",
    "                \"num_internal_nodes\": num_internal_nodes,\n",
    "                \"num_passthrough_nodes\": num_passthrough_nodes,\n",
    "                \"num_split_nodes\": num_split_nodes,\n",
    "                \"num_observed_nodes\": num_observed_nodes,\n",
    "                \"num_inferred_nodes\": num_inferred_nodes,\n",
    "                \"num_MID\": len(all_MIDs),\n",
    "                \"available_population\": \",\".join(all_groups),\n",
    "                \"num_seq_fasta\": len(seqs),\n",
    "                \"num_single_node\": count_single_node,\n",
    "                \"num_mix_node\": count_mix_node\n",
    "            },\n",
    "            index=[0],\n",
    "        )\n",
    "        maindf = pd.concat([maindf, tmpdf], axis = 0)\n",
    "    maindf = maindf.sort_values(by = \"num_MID\", ascending = False)\n",
    "    maindf.to_csv(f\"{path_to_01_output}/tree_summarydf.csv\", index = False)\n",
    "    with open(f\"{path_to_01_output}/saveTreeobj.pkl\", \"wb\") as f:\n",
    "        pickle.dump(saveTreeobj, f)\n",
    "else:\n",
    "    maindf = pd.read_csv(f\"{path_to_01_output}/tree_summarydf.csv\")\n",
    "    # Reload the dictionary from the pickle file\n",
    "    with open(f\"{path_to_01_output}/saveTreeobj.pkl\", \"rb\") as f:\n",
    "        saveTreeobj = pickle.load(f)"
   ]
  },
  {
   "cell_type": "code",
   "execution_count": null,
   "metadata": {},
   "outputs": [],
   "source": [
    "treeobj = saveTreeobj[\"m13_IGHV9-3-01_IGHJ2-01_39_5.aln\"]\n",
    "color_path = \"./hex_color.csv\"\n",
    "ts = treeobj.generate_tree_style(color_path = color_path)\n",
    "treeobj.tree.render(\"%%inline\", tree_style=ts) "
   ]
  },
  {
   "cell_type": "code",
   "execution_count": null,
   "metadata": {},
   "outputs": [],
   "source": [
    "# cloneid = \"m12_all_YFP_IGHV1-18-01_IGHJ3-01_36_2\"\n",
    "color_path = \"./hex_color.csv\"\n",
    "for cloneid in tqdm(saveTreeobj.keys()):\n",
    "    mouseid = cloneid.split(\"_\")[0]\n",
    "    path_to_save_tree_svg = os.path.join(path_to_01_output, mouseid)\n",
    "    os.system(f\"mkdir -p {path_to_save_tree_svg}\")\n",
    "\n",
    "    treeobj = saveTreeobj[cloneid] \n",
    "    avai_mids = treeobj.seqdf[\"MID\"].unique()\n",
    "    mid_color_pal = pd.read_csv(color_path, index_col = [0]).to_dict()[\"hex color\"]\n",
    "\n",
    "    ts = treeobj.generate_tree_style(color_path = color_path)\n",
    "    # treeobj.tree.render(\"%%inline\", tree_style=ts) \n",
    "\n",
    "    for input_mid in avai_mids:\n",
    "        if input_mid == \"GL\":\n",
    "            input_mid_col = \"gray\"\n",
    "        else:\n",
    "            input_mid_col = mid_color_pal[input_mid]\n",
    "        ts.legend.add_face(CircleFace(10, input_mid_col), column = 0)\n",
    "        ts.legend.add_face(TextFace(input_mid), column = 0)\n",
    "\n",
    "    _ = treeobj.tree.render(f\"{path_to_save_tree_svg}/{cloneid}.svg\", tree_style=ts) \n"
   ]
  }
 ],
 "metadata": {
  "kernelspec": {
   "display_name": "ete3_py39",
   "language": "python",
   "name": "python3"
  },
  "language_info": {
   "codemirror_mode": {
    "name": "ipython",
    "version": 3
   },
   "file_extension": ".py",
   "mimetype": "text/x-python",
   "name": "python",
   "nbconvert_exporter": "python",
   "pygments_lexer": "ipython3",
   "version": "3.9.20"
  }
 },
 "nbformat": 4,
 "nbformat_minor": 2
}
