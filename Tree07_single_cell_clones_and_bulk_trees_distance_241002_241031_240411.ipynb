{
 "cells": [
  {
   "cell_type": "code",
   "execution_count": 1,
   "metadata": {},
   "outputs": [
    {
     "name": "stderr",
     "output_type": "stream",
     "text": [
      "/home/hieunguyen/miniconda3/envs/ete3_py39/lib/python3.9/site-packages/tqdm/auto.py:21: TqdmWarning: IProgress not found. Please update jupyter and ipywidgets. See https://ipywidgets.readthedocs.io/en/stable/user_install.html\n",
      "  from .autonotebook import tqdm as notebook_tqdm\n"
     ]
    }
   ],
   "source": [
    "import pandas as pd\n",
    "import numpy as np\n",
    "import pathlib\n",
    "import matplotlib.pyplot as plt\n",
    "import seaborn as sns\n",
    "import os\n",
    "from tqdm import tqdm\n",
    "from typing import List, Union, Optional, Callable\n",
    "import pickle\n",
    "from Bio import AlignIO, SeqIO\n",
    "from ete3 import Tree, TreeNode\n",
    "from gctree import CollapsedTree\n",
    "\n",
    "from sklearn.decomposition import PCA\n",
    "from sklearn.preprocessing import StandardScaler\n",
    "import umap\n",
    "from ete3 import Tree, faces, TreeStyle, NodeStyle, TextFace, SequenceFace, COLOR_SCHEMES, CircleFace\n",
    "from GCTree_preparation import *\n",
    "import warnings\n",
    "import math\n",
    "import nltk\n",
    "\n",
    "warnings.filterwarnings(\"ignore\")\n",
    "\n",
    "path_to_storage = \"/media/hieunguyen/HNHD01/storage/all_BSimons_datasets\"\n",
    "outdir = \"/media/hieunguyen/GSHD_HN01/outdir/sc_bulk_BCR_data_analysis_v0.1\"\n",
    "\n",
    "bulk_project = \"241031_BSimons\"\n",
    "sc_project = [\"240411_BSimons\", \"241002_BSimons\"]\n",
    "\n",
    "PROJECTS = f\"{bulk_project}_{'_'.join(sc_project)}\"\n",
    "\n",
    "path_to_01_output = f\"{outdir}/tree_analysis/{bulk_project}/01_output\"\n",
    "path_to_07_output = f\"{outdir}/tree_analysis/07_output/{PROJECTS}\"\n",
    "os.system(f\"mkdir -p {path_to_07_output}\")\n",
    "\n",
    "with open(f\"{path_to_01_output}/saveTreeobj.pkl\", \"rb\") as f:\n",
    "    saveTreeobj = pickle.load(f)\n",
    "\n",
    "mouseid = \"m3\"\n",
    "\n",
    "bulk_metadata = pd.read_excel(\"/media/hieunguyen/HNSD01/src/sc_bulk_BCR_data_analysis/preprocessing/241031_BSimons/241031_sample_sheet.xlsx\")\n",
    "bulk_metadata[\"MID\"] = bulk_metadata[\"MID\"].apply(lambda x: f\"MID{x}\")\n",
    "bulk_metadata.columns = [\"MID\", \"mouseID\", \"organ\", \"YFP\", \"population\"]\n",
    "\n",
    "maindf = pd.read_csv(f\"{path_to_01_output}/tree_summarydf.csv\")\n",
    "maindf = maindf[maindf[\"mouseID\"] == mouseid]\n",
    "\n",
    "path_to_04_output = os.path.join(outdir, \"VDJ_output\", \"04_output\")\n",
    "thres = 0.85\n",
    "clonedf = pd.read_csv(os.path.join(path_to_04_output, \"full_clonedf_with_mutation_rate.csv\"), index_col= [0])\n",
    "clonedf = clonedf[clonedf['num_mutation'] != \"region_not_covered-skip\"]\n",
    "\n",
    "sc_clonedf = clonedf[clonedf['dataset.name'].isin(sc_project)][[\"barcode\", \"id\", 'V.gene', 'J.gene', 'D.gene', \"aaSeqCDR3\", \"nSeqCDR3\"]].reset_index().drop(\"index\", axis = 1)\n",
    "\n",
    "sc_clonedf[\"mouseID\"] = sc_clonedf[\"id\"].apply(lambda x: \"m\" + x.replace(\"M\", \"\").replace(\"P\", \"\"))\n",
    "sc_clonedf = sc_clonedf[sc_clonedf[\"mouseID\"] == mouseid]\n"
   ]
  },
  {
   "cell_type": "code",
   "execution_count": 2,
   "metadata": {},
   "outputs": [
    {
     "name": "stderr",
     "output_type": "stream",
     "text": [
      "  0%|          | 0/267 [00:00<?, ?it/s]\n"
     ]
    },
    {
     "ename": "NameError",
     "evalue": "name 'path_to_06_output' is not defined",
     "output_type": "error",
     "traceback": [
      "\u001b[0;31m---------------------------------------------------------------------------\u001b[0m",
      "\u001b[0;31mNameError\u001b[0m                                 Traceback (most recent call last)",
      "Cell \u001b[0;32mIn[2], line 15\u001b[0m\n\u001b[1;32m     13\u001b[0m bulkdf \u001b[38;5;241m=\u001b[39m seqdf\u001b[38;5;241m.\u001b[39mmerge(idmapdf, right_on \u001b[38;5;241m=\u001b[39m \u001b[38;5;124m\"\u001b[39m\u001b[38;5;124mseq\u001b[39m\u001b[38;5;124m\"\u001b[39m, left_on \u001b[38;5;241m=\u001b[39m \u001b[38;5;124m\"\u001b[39m\u001b[38;5;124mseq\u001b[39m\u001b[38;5;124m\"\u001b[39m)\n\u001b[1;32m     14\u001b[0m bulkdf[\u001b[38;5;124m\"\u001b[39m\u001b[38;5;124maaSeqCDR3\u001b[39m\u001b[38;5;124m\"\u001b[39m] \u001b[38;5;241m=\u001b[39m bulkdf[\u001b[38;5;124m\"\u001b[39m\u001b[38;5;124mID\u001b[39m\u001b[38;5;124m\"\u001b[39m]\u001b[38;5;241m.\u001b[39mapply(\u001b[38;5;28;01mlambda\u001b[39;00m x: x\u001b[38;5;241m.\u001b[39msplit(\u001b[38;5;124m\"\u001b[39m\u001b[38;5;124m|\u001b[39m\u001b[38;5;124m\"\u001b[39m)[\u001b[38;5;241m2\u001b[39m]\u001b[38;5;241m.\u001b[39msplit(\u001b[38;5;124m\"\u001b[39m\u001b[38;5;124m:\u001b[39m\u001b[38;5;124m\"\u001b[39m)[\u001b[38;5;241m1\u001b[39m])\n\u001b[0;32m---> 15\u001b[0m bulkdf\u001b[38;5;241m.\u001b[39mto_csv(os\u001b[38;5;241m.\u001b[39mpath\u001b[38;5;241m.\u001b[39mjoin(\u001b[43mpath_to_06_output\u001b[49m, \u001b[38;5;124mf\u001b[39m\u001b[38;5;124m\"\u001b[39m\u001b[38;5;124mtree_Seqdf_\u001b[39m\u001b[38;5;132;01m{\u001b[39;00mcloneid\u001b[38;5;132;01m}\u001b[39;00m\u001b[38;5;124m.csv\u001b[39m\u001b[38;5;124m\"\u001b[39m))\n\u001b[1;32m     17\u001b[0m scdf \u001b[38;5;241m=\u001b[39m sc_clonedf[(sc_clonedf[\u001b[38;5;124m\"\u001b[39m\u001b[38;5;124mV.gene\u001b[39m\u001b[38;5;124m\"\u001b[39m] \u001b[38;5;241m==\u001b[39m V_gene\u001b[38;5;241m.\u001b[39msplit(\u001b[38;5;124m\"\u001b[39m\u001b[38;5;124m-0\u001b[39m\u001b[38;5;124m\"\u001b[39m)[\u001b[38;5;241m0\u001b[39m]) \u001b[38;5;241m&\u001b[39m \n\u001b[1;32m     18\u001b[0m                 (sc_clonedf[\u001b[38;5;124m\"\u001b[39m\u001b[38;5;124mJ.gene\u001b[39m\u001b[38;5;124m\"\u001b[39m] \u001b[38;5;241m==\u001b[39m J_gene\u001b[38;5;241m.\u001b[39msplit(\u001b[38;5;124m\"\u001b[39m\u001b[38;5;124m-0\u001b[39m\u001b[38;5;124m\"\u001b[39m)[\u001b[38;5;241m0\u001b[39m])]\n\u001b[1;32m     20\u001b[0m scdf[\u001b[38;5;124m\"\u001b[39m\u001b[38;5;124mlen\u001b[39m\u001b[38;5;124m\"\u001b[39m] \u001b[38;5;241m=\u001b[39m scdf[\u001b[38;5;124m\"\u001b[39m\u001b[38;5;124mnSeqCDR3\u001b[39m\u001b[38;5;124m\"\u001b[39m]\u001b[38;5;241m.\u001b[39mapply(\u001b[38;5;28;01mlambda\u001b[39;00m x: \u001b[38;5;28mlen\u001b[39m(x))\n",
      "\u001b[0;31mNameError\u001b[0m: name 'path_to_06_output' is not defined"
     ]
    }
   ],
   "source": [
    "color_path = f\"{bulk_project}_color.csv\"\n",
    "tree_dist_seqdf = pd.DataFrame()\n",
    "\n",
    "for cloneid in tqdm(maindf.cloneid.unique()):\n",
    "    V_gene = cloneid.split(\"_\")[1]\n",
    "    J_gene = cloneid.split(\"_\")[2]\n",
    "    cdr3_len = cloneid.split(\"_\")[3]\n",
    "    mouseid = cloneid.split(\"_\")[0]\n",
    "\n",
    "    treeobj = saveTreeobj[cloneid]\n",
    "    seqdf = treeobj.seqdf.copy()\n",
    "    idmapdf = treeobj.idmapseqdf.copy()\n",
    "    bulkdf = seqdf.merge(idmapdf, right_on = \"seq\", left_on = \"seq\")\n",
    "    bulkdf[\"aaSeqCDR3\"] = bulkdf[\"ID\"].apply(lambda x: x.split(\"|\")[2].split(\":\")[1])\n",
    "    \n",
    "    scdf = sc_clonedf[(sc_clonedf[\"V.gene\"] == V_gene.split(\"-0\")[0]) & \n",
    "                    (sc_clonedf[\"J.gene\"] == J_gene.split(\"-0\")[0])]\n",
    "\n",
    "    scdf[\"len\"] = scdf[\"nSeqCDR3\"].apply(lambda x: len(x))\n",
    "    scdf = scdf[scdf[\"len\"] == int(cdr3_len)]\n",
    "\n",
    "    if scdf.shape[0] > 0:\n",
    "        for i in range(0, scdf.shape[0]):\n",
    "            barcode = scdf.iloc[i].barcode\n",
    "            sampleid = scdf.iloc[i].id\n",
    "            sc_seq = scdf[(scdf[\"barcode\"] == barcode) & (scdf[\"id\"] == sampleid)][\"aaSeqCDR3\"].values[0] \n",
    "\n",
    "            bulkdf[f\"{sampleid}_{barcode}\"] = bulkdf[\"aaSeqCDR3\"].apply(lambda x: nltk.edit_distance(x, sc_seq)/len(x))\n",
    "        bulkdf[\"min_dist_to_a_cell\"] = bulkdf[[item for item in bulkdf.columns if sampleid in item]].apply(lambda x: min(x), axis = 1)\n",
    "        bulkdf.to_csv(os.path.join(path_to_07_output, f\"tree_Seqdf_{cloneid}.csv\"))\n",
    "        bulkdf = bulkdf[[\"ID\", \"seq\", \"abundance\", \"MID\", \"seqid\", \"min_dist_to_a_cell\"]]\n",
    "        bulkdf[\"num_cells\"] = scdf.shape[0]\n",
    "        bulkdf[\"cloneid\"] = cloneid\n",
    "        tree_dist_seqdf = pd.concat([tree_dist_seqdf, bulkdf], axis = 0)\n",
    "    else:\n",
    "        bulkdf.to_csv(os.path.join(path_to_07_output, f\"tree_Seqdf_{cloneid}.csv\"))"
   ]
  },
  {
   "cell_type": "code",
   "execution_count": null,
   "metadata": {},
   "outputs": [],
   "source": [
    "tree_dist_seqdf[(tree_dist_seqdf[\"min_dist_to_a_cell\"] == min(tree_dist_seqdf[\"min_dist_to_a_cell\"])) & \n",
    "                (tree_dist_seqdf[\"num_cells\"] >= 5)].cloneid.unique()"
   ]
  },
  {
   "cell_type": "code",
   "execution_count": null,
   "metadata": {},
   "outputs": [],
   "source": [
    "cloneid = \"m3_IGHV8-12-01_IGHJ3-01_42_2\"\n",
    "\n",
    "V_gene = cloneid.split(\"_\")[1]\n",
    "J_gene = cloneid.split(\"_\")[2]\n",
    "cdr3_len = cloneid.split(\"_\")[3]\n",
    "mouseid = cloneid.split(\"_\")[0]\n",
    "\n",
    "treeobj = saveTreeobj[cloneid]\n",
    "seqdf = treeobj.seqdf.copy()\n",
    "idmapdf = treeobj.idmapseqdf.copy()\n",
    "bulkdf = seqdf.merge(idmapdf, right_on = \"seq\", left_on = \"seq\")\n",
    "bulkdf[\"aaSeqCDR3\"] = bulkdf[\"ID\"].apply(lambda x: x.split(\"|\")[2].split(\":\")[1])\n",
    "\n",
    "scdf = sc_clonedf[(sc_clonedf[\"V.gene\"] == V_gene.split(\"-0\")[0]) & \n",
    "                (sc_clonedf[\"J.gene\"] == J_gene.split(\"-0\")[0])]\n",
    "\n",
    "scdf[\"len\"] = scdf[\"nSeqCDR3\"].apply(lambda x: len(x))\n",
    "scdf = scdf[scdf[\"len\"] == int(cdr3_len)]\n",
    "\n",
    "if scdf.shape[0] > 0:\n",
    "    for i in range(0, scdf.shape[0]):\n",
    "        barcode = scdf.iloc[i].barcode\n",
    "        sampleid = scdf.iloc[i].id\n",
    "        sc_seq = scdf[(scdf[\"barcode\"] == barcode) & (scdf[\"id\"] == sampleid)][\"aaSeqCDR3\"].values[0] \n",
    "\n",
    "        bulkdf[f\"{sampleid}_{barcode}\"] = bulkdf[\"aaSeqCDR3\"].apply(lambda x: nltk.edit_distance(x, sc_seq)/len(x))\n",
    "    bulkdf[\"min_dist_to_a_cell\"] = bulkdf[[item for item in bulkdf.columns if sampleid in item]].apply(lambda x: min(x), axis = 1)\n",
    "\n",
    "\n",
    "# plt.show()\n",
    "\n",
    "plt.figure(figsize= (10, 10))\n",
    "sns.heatmap(bulkdf[[\"seqid\"] + [item for item in bulkdf.columns if \"_\" in item and item != \"min_dist_to_a_cell\"]].set_index(\"seqid\"),\n",
    "            cmap=\"coolwarm\", cbar=-1, linewidths=0.5, linecolor='black')\n",
    "for tick_label in plt.gca().get_xticklabels():\n",
    "    tick_text = tick_label.get_text()\n",
    "    if \"M\" in tick_text:\n",
    "        tick_label.set_color('blue')\n",
    "    elif \"P\" in tick_text:\n",
    "        tick_label.set_color('red')\n",
    "plt.show()"
   ]
  },
  {
   "cell_type": "code",
   "execution_count": null,
   "metadata": {},
   "outputs": [],
   "source": [
    "treeobj = saveTreeobj[cloneid] \n",
    "avai_mids = treeobj.seqdf[\"MID\"].unique()\n",
    "mid_color_pal = pd.read_csv(color_path, index_col = [0]).to_dict()[\"hex color\"]\n",
    "\n",
    "ts = treeobj.generate_tree_style(color_path = color_path)\n",
    "\n",
    "for input_mid in avai_mids:\n",
    "    if input_mid == \"GL\":\n",
    "        input_mid_col = \"gray\"\n",
    "    else:\n",
    "        input_mid_col = mid_color_pal[input_mid]\n",
    "    ts.legend.add_face(CircleFace(10, input_mid_col), column = 0)\n",
    "    ts.legend.add_face(TextFace(bulk_metadata[bulk_metadata[\"MID\"]==input_mid][\"population\"].values[0]), column = 0)\n",
    "\n",
    "treeobj.tree.render(\"%%inline\", tree_style=ts)"
   ]
  },
  {
   "cell_type": "code",
   "execution_count": null,
   "metadata": {},
   "outputs": [],
   "source": [
    "len(tree_dist_seqdf.cloneid.unique())"
   ]
  }
 ],
 "metadata": {
  "kernelspec": {
   "display_name": "ete3_py39",
   "language": "python",
   "name": "python3"
  },
  "language_info": {
   "codemirror_mode": {
    "name": "ipython",
    "version": 3
   },
   "file_extension": ".py",
   "mimetype": "text/x-python",
   "name": "python",
   "nbconvert_exporter": "python",
   "pygments_lexer": "ipython3",
   "version": "3.9.20"
  }
 },
 "nbformat": 4,
 "nbformat_minor": 2
}
